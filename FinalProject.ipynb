{
  "nbformat": 4,
  "nbformat_minor": 0,
  "metadata": {
    "colab": {
      "name": "FinalProject.ipynb",
      "provenance": [],
      "collapsed_sections": []
    },
    "kernelspec": {
      "display_name": "Python 3",
      "language": "python",
      "name": "python3"
    },
    "language_info": {
      "codemirror_mode": {
        "name": "ipython",
        "version": 3
      },
      "file_extension": ".py",
      "mimetype": "text/x-python",
      "name": "python",
      "nbconvert_exporter": "python",
      "pygments_lexer": "ipython3",
      "version": "3.8.7"
    }
  },
  "cells": [
    {
      "cell_type": "markdown",
      "metadata": {
        "id": "a1szrB4XaIeq"
      },
      "source": [
        "#Machine Learning Final Project\n",
        "##Predicting Students' Test Scores in Math and Portugese\n",
        "####Group 6: \n",
        "\n",
        "\n",
        "> Allison Anson, Nat Arney, David Hackenbracht, and Matthew Sawberger\n",
        "\n",
        "######Source of data set: http://archive.ics.uci.edu/ml/datasets/Student+Performance\n",
        "---\n",
        "\n",
        "\n",
        "\n"
      ]
    },
    {
      "cell_type": "code",
      "metadata": {
        "id": "X24L8B4JiIS7"
      },
      "source": [
        "import pandas as pd\n",
        "import numpy as np\n",
        "import zipfile\n",
        "import seaborn as sns\n",
        "import matplotlib.pyplot as plt\n",
        "import matplotlib as mpl\n",
        "\n",
        "from sklearn.dummy import DummyClassifier\n",
        "from sklearn.ensemble import RandomForestClassifier\n",
        "from sklearn.model_selection import train_test_split\n",
        "from sklearn.metrics import confusion_matrix, precision_recall_curve, roc_curve, f1_score, classification_report, precision_score, auc, plot_confusion_matrix\n",
        "from sklearn.discriminant_analysis import LinearDiscriminantAnalysis\n",
        "from sklearn import metrics\n",
        "from sklearn.model_selection import GridSearchCV, cross_val_score, KFold\n",
        "from sklearn.neighbors import KNeighborsClassifier\n",
        "from sklearn.svm import SVC\n",
        "\n",
        "import time\n",
        "import itertools\n",
        "\n",
        "%matplotlib inline"
      ],
      "execution_count": null,
      "outputs": []
    },
    {
      "cell_type": "code",
      "metadata": {
        "colab": {
          "base_uri": "https://localhost:8080/"
        },
        "id": "WBuXMdYDF9UI",
        "outputId": "978c4bd3-7c10-4979-8991-ddb670887dc6"
      },
      "source": [
        "!wget http://archive.ics.uci.edu/ml/machine-learning-databases/00320/student.zip"
      ],
      "execution_count": null,
      "outputs": [
        {
          "output_type": "stream",
          "text": [
            "--2021-04-27 17:34:28--  http://archive.ics.uci.edu/ml/machine-learning-databases/00320/student.zip\n",
            "Resolving archive.ics.uci.edu (archive.ics.uci.edu)... 128.195.10.252\n",
            "Connecting to archive.ics.uci.edu (archive.ics.uci.edu)|128.195.10.252|:80... connected.\n",
            "HTTP request sent, awaiting response... 200 OK\n",
            "Length: 20478 (20K) [application/x-httpd-php]\n",
            "Saving to: ‘student.zip’\n",
            "\n",
            "\rstudent.zip           0%[                    ]       0  --.-KB/s               \rstudent.zip         100%[===================>]  20.00K  --.-KB/s    in 0.04s   \n",
            "\n",
            "2021-04-27 17:34:28 (561 KB/s) - ‘student.zip’ saved [20478/20478]\n",
            "\n"
          ],
          "name": "stdout"
        }
      ]
    },
    {
      "cell_type": "code",
      "metadata": {
        "colab": {
          "base_uri": "https://localhost:8080/"
        },
        "id": "Lj35xznBGY2M",
        "outputId": "924a127c-1665-4de8-af97-74797f72eb87"
      },
      "source": [
        "# extract contents from data zip file and remove zip file, show files\n",
        "with zipfile.ZipFile(\"student.zip\", 'r') as zip_ref:\n",
        "    zip_ref.extractall()\n",
        "\n",
        "%rm -rf *.zip\n",
        "%ls"
      ],
      "execution_count": null,
      "outputs": [
        {
          "output_type": "stream",
          "text": [
            "\u001b[0m\u001b[01;34msample_data\u001b[0m/  student-mat.csv  student-merge.R  student-por.csv  student.txt\n"
          ],
          "name": "stdout"
        }
      ]
    },
    {
      "cell_type": "code",
      "metadata": {
        "id": "9-_Zq0MxFz1C"
      },
      "source": [
        "# read data from math and portugese data sets into their own dataframe\n",
        "df_por = pd.read_csv('student-por.csv', sep=';', header=0)\n",
        "df_mat = pd.read_csv('student-mat.csv', sep=';', header=0)"
      ],
      "execution_count": null,
      "outputs": []
    },
    {
      "cell_type": "code",
      "metadata": {
        "colab": {
          "base_uri": "https://localhost:8080/"
        },
        "id": "JSWp8zo0HFCu",
        "outputId": "7f7863d3-75ad-47d4-905c-f47a2fd48c79"
      },
      "source": [
        "print(df_por.head())\n",
        "print(df_mat.head())"
      ],
      "execution_count": null,
      "outputs": [
        {
          "output_type": "stream",
          "text": [
            "  school sex  age address famsize Pstatus  ...  Walc  health absences  G1  G2  G3\n",
            "0     GP   F   18       U     GT3       A  ...     1       3        4   0  11  11\n",
            "1     GP   F   17       U     GT3       T  ...     1       3        2   9  11  11\n",
            "2     GP   F   15       U     LE3       T  ...     3       3        6  12  13  12\n",
            "3     GP   F   15       U     GT3       T  ...     1       5        0  14  14  14\n",
            "4     GP   F   16       U     GT3       T  ...     2       5        0  11  13  13\n",
            "\n",
            "[5 rows x 33 columns]\n",
            "  school sex  age address famsize Pstatus  ...  Walc  health absences  G1  G2  G3\n",
            "0     GP   F   18       U     GT3       A  ...     1       3        6   5   6   6\n",
            "1     GP   F   17       U     GT3       T  ...     1       3        4   5   5   6\n",
            "2     GP   F   15       U     LE3       T  ...     3       3       10   7   8  10\n",
            "3     GP   F   15       U     GT3       T  ...     1       5        2  15  14  15\n",
            "4     GP   F   16       U     GT3       T  ...     2       5        4   6  10  10\n",
            "\n",
            "[5 rows x 33 columns]\n"
          ],
          "name": "stdout"
        }
      ]
    },
    {
      "cell_type": "code",
      "metadata": {
        "colab": {
          "base_uri": "https://localhost:8080/"
        },
        "id": "3WIFmwRP7h5E",
        "outputId": "f3460cbd-08ed-4083-cf5a-ae3c89f79ac9"
      },
      "source": [
        "# Show sum of values that are N/A in each data set\n",
        "print(df_por.isna().sum().sum())\n",
        "print(df_mat.isna().sum().sum())"
      ],
      "execution_count": null,
      "outputs": [
        {
          "output_type": "stream",
          "text": [
            "0\n",
            "0\n"
          ],
          "name": "stdout"
        }
      ]
    },
    {
      "cell_type": "code",
      "metadata": {
        "id": "DvdZ7M_f_SEt"
      },
      "source": [
        "# Convert String based values into numerical (categorical values)\n",
        "# Nominal values had to be seperated out individually due to each predictor having an overlapping term 'other'. \n",
        "bin_mapping              = {'GP':0, 'MS':1, 'F':0, 'M':1, 'U':0, 'R':1, 'LE3':0, \n",
        "                            'GT3':1, 'T':0, 'A':1, 'no':0, 'yes':1, 'mother':0, 'father':1 }\n",
        "nominal_mapping_job      = {'teacher':0, 'health':1, 'services':2, 'at_home':3, 'other':4 }\n",
        "nominal_mapping_reason   = {'home':0, 'reputation':1, 'course':2, 'other':3 }\n",
        "nominal_mapping_guardian = {'mother':0, 'father':1, 'other':2 }\n",
        "\n",
        "df_por                   = df_por.applymap(lambda x: bin_mapping.get(x) if x in bin_mapping else x)\n",
        "df_por[['Mjob', 'Fjob']] = df_por[['Mjob', 'Fjob']].applymap(lambda x: nominal_mapping_job.get(x) if x in nominal_mapping_job else x)\n",
        "df_por[['reason']]       = df_por[['reason']].applymap(lambda x: nominal_mapping_reason.get(x) if x in nominal_mapping_reason else x)\n",
        "df_por[['guardian']]     = df_por[['guardian']].applymap(lambda x: nominal_mapping_guardian.get(x) if x in nominal_mapping_guardian else x)\n",
        "\n",
        "df_mat                   = df_mat.applymap(lambda x: bin_mapping.get(x) if x in bin_mapping else x)\n",
        "df_mat[['Mjob', 'Fjob']] = df_mat[['Mjob', 'Fjob']].applymap(lambda x: nominal_mapping_job.get(x) if x in nominal_mapping_job else x)\n",
        "df_mat[['reason']]       = df_mat[['reason']].applymap(lambda x: nominal_mapping_reason.get(x) if x in nominal_mapping_reason else x)\n",
        "df_mat[['guardian']]     = df_mat[['guardian']].applymap(lambda x: nominal_mapping_guardian.get(x) if x in nominal_mapping_guardian else x)\n",
        "\n",
        "# Set classification for G3 predicted class \n",
        "df_mat['G3'] = [ \"Pass\" if x >= 10 else \"Fail\" for x in df_mat['G3']]\n",
        "df_por['G3'] = [ \"Pass\" if x >= 10 else \"Fail\" for x in df_por['G3']]\n",
        "\n",
        "# Binary Classification Labels\n",
        "labels=['Pass', 'Fail']"
      ],
      "execution_count": null,
      "outputs": []
    },
    {
      "cell_type": "code",
      "metadata": {
        "colab": {
          "base_uri": "https://localhost:8080/"
        },
        "id": "6wOd5Yvc0oUx",
        "outputId": "e8f08b5d-05be-4a31-a393-a48e39c5e2fb"
      },
      "source": [
        "# Extract predicted class values\n",
        "y_por = df_por.G3.values\n",
        "y_mat = df_mat.G3.values\n",
        "\n",
        "# Clear the predicted class values from the dataframe\n",
        "df_por.drop(columns='G3', inplace=True)\n",
        "df_mat.drop(columns='G3', inplace=True)\n",
        "\n",
        "# Normalize data\n",
        "df_mat = (df_mat-df_mat.mean())/df_mat.std()\n",
        "df_por = (df_por-df_por.mean())/df_por.std()\n",
        "\n",
        "# Create two dataframes without G1 and G2 datapoints - Only social factors remain\n",
        "df_por_social = df_por.drop(columns=['G1', 'G2'], inplace=False)\n",
        "df_mat_social = df_mat.drop(columns=['G1', 'G2'], inplace=False)\n",
        "\n",
        "# Display the data set sizes\n",
        "print(y_por.shape)\n",
        "print(y_mat.shape)\n",
        "print(df_por.shape)\n",
        "print(df_mat.shape)\n",
        "print(df_por.head())\n",
        "print(df_mat.head())\n",
        "print(df_por_social.head())\n",
        "print(df_mat_social.head())"
      ],
      "execution_count": null,
      "outputs": [
        {
          "output_type": "stream",
          "text": [
            "(649,)\n",
            "(395,)\n",
            "(649, 32)\n",
            "(395, 32)\n",
            "     school       sex       age  ...  absences        G1        G2\n",
            "0 -0.730381 -0.832735  1.030900  ...  0.073377 -4.152268 -0.195669\n",
            "1 -0.730381 -0.832735  0.209975  ... -0.357587 -0.873896 -0.195669\n",
            "2 -0.730381 -0.832735 -1.431876  ...  0.504341  0.218895  0.490758\n",
            "3 -0.730381 -0.832735 -1.431876  ... -0.788551  0.947422  0.833972\n",
            "4 -0.730381 -0.832735 -0.610951  ... -0.788551 -0.145369  0.490758\n",
            "\n",
            "[5 rows x 32 columns]\n",
            "    school       sex       age  ...  absences        G1        G2\n",
            "0 -0.36259 -0.946975  1.021751  ...  0.036378 -1.780209 -1.253202\n",
            "1 -0.36259 -0.946975  0.238078  ... -0.213525 -1.780209 -1.519053\n",
            "2 -0.36259 -0.946975 -1.329268  ...  0.536185 -1.177653 -0.721500\n",
            "3 -0.36259 -0.946975 -1.329268  ... -0.463428  1.232570  0.873607\n",
            "4 -0.36259 -0.946975 -0.545595  ... -0.213525 -1.478931 -0.189797\n",
            "\n",
            "[5 rows x 32 columns]\n",
            "     school       sex       age  ...      Walc    health  absences\n",
            "0 -0.730381 -0.832735  1.030900  ... -0.996926 -0.370756  0.073377\n",
            "1 -0.730381 -0.832735  0.209975  ... -0.996926 -0.370756 -0.357587\n",
            "2 -0.730381 -0.832735 -1.431876  ...  0.560246 -0.370756  0.504341\n",
            "3 -0.730381 -0.832735 -1.431876  ... -0.996926  1.012122 -0.788551\n",
            "4 -0.730381 -0.832735 -0.610951  ... -0.218340  1.012122 -0.788551\n",
            "\n",
            "[5 rows x 30 columns]\n",
            "    school       sex       age  ...      Walc    health  absences\n",
            "0 -0.36259 -0.946975  1.021751  ... -1.002518 -0.398784  0.036378\n",
            "1 -0.36259 -0.946975  0.238078  ... -1.002518 -0.398784 -0.213525\n",
            "2 -0.36259 -0.946975 -1.329268  ...  0.550402 -0.398784  0.536185\n",
            "3 -0.36259 -0.946975 -1.329268  ... -1.002518  1.039751 -0.463428\n",
            "4 -0.36259 -0.946975 -0.545595  ... -0.226058  1.039751 -0.213525\n",
            "\n",
            "[5 rows x 30 columns]\n"
          ],
          "name": "stdout"
        }
      ]
    },
    {
      "cell_type": "code",
      "metadata": {
        "id": "Oq0_U0kH8APW"
      },
      "source": [
        "# Split the data into training and test sets\n",
        "matXtrain, matXtest, matytrain, matytest = train_test_split(df_mat, y_mat, test_size=0.2, random_state=1)\n",
        "porXtrain, porXtest, porytrain, porytest = train_test_split(df_por, y_por, test_size=0.2, random_state=1)\n",
        "\n",
        "matXtrain2, matXtest2, matytrain2, matytest2 = train_test_split(df_mat_social, y_mat, test_size=0.2, random_state=1)\n",
        "porXtrain2, porXtest2, porytrain2, porytest2 = train_test_split(df_por_social, y_por, test_size=0.2, random_state=1)"
      ],
      "execution_count": null,
      "outputs": []
    },
    {
      "cell_type": "code",
      "metadata": {
        "colab": {
          "base_uri": "https://localhost:8080/"
        },
        "id": "di69slrbgZKm",
        "outputId": "a1577314-34b9-4a00-f30e-e33bb7cdc929"
      },
      "source": [
        "# Create a dummy classifier \n",
        "dummy_math = DummyClassifier(\"uniform\")\n",
        "dummy_por = DummyClassifier(\"uniform\")\n",
        "\n",
        "dummy_math.fit(matXtrain, matytrain)\n",
        "dummy_por.fit(porXtrain, porytrain)\n",
        "\n",
        "dummy_math_pred = dummy_math.predict(matXtest)\n",
        "dummy_por_pred = dummy_por.predict(porXtest)\n",
        "\n",
        "print(\"Dummy Math Score: {:.2f}\".format(dummy_math.score(matXtest, matytest)))\n",
        "print(\"Dummy Por Score:  {:.2f}\".format(dummy_por.score(porXtest, porytest)))"
      ],
      "execution_count": null,
      "outputs": [
        {
          "output_type": "stream",
          "text": [
            "Dummy Math Score: 0.51\n",
            "Dummy Por Score:  0.48\n"
          ],
          "name": "stdout"
        }
      ]
    },
    {
      "cell_type": "code",
      "metadata": {
        "colab": {
          "base_uri": "https://localhost:8080/"
        },
        "id": "ygM1iW5mmEh8",
        "outputId": "34219446-3970-4ac0-ee2d-c5e947221025"
      },
      "source": [
        "# Create a dummy classifier - Social Factors Only\n",
        "dummy_math_social = DummyClassifier(\"uniform\")\n",
        "dummy_por_social = DummyClassifier(\"uniform\")\n",
        "\n",
        "dummy_math_social.fit(matXtrain2, matytrain2)\n",
        "dummy_por_social.fit(porXtrain2, porytrain2)\n",
        "\n",
        "dummy_math_pred2 = dummy_math_social.predict(matXtest2)\n",
        "dummy_por_pred2 = dummy_por_social.predict(porXtest2)\n",
        "\n",
        "print(\"Dummy Math Score: {:.2f}\".format(dummy_math_social.score(matXtest2, matytest2)))\n",
        "print(\"Dummy Por Score:  {:.2f}\".format(dummy_por_social.score(porXtest2, porytest2)))"
      ],
      "execution_count": null,
      "outputs": [
        {
          "output_type": "stream",
          "text": [
            "Dummy Math Score: 0.48\n",
            "Dummy Por Score:  0.50\n"
          ],
          "name": "stdout"
        }
      ]
    },
    {
      "cell_type": "code",
      "metadata": {
        "colab": {
          "base_uri": "https://localhost:8080/"
        },
        "id": "NwGNr55RoFbb",
        "outputId": "905fa1f8-f095-407f-db1d-01190fdb82de"
      },
      "source": [
        "print(\"Math - Dummy Classifer Classication Report\")\n",
        "print(classification_report(matytest, dummy_math_pred, labels=labels, target_names=labels))\n",
        "print(\"Portuguese - Dummy Classifer Classication Report\")\n",
        "print(classification_report(porytest, dummy_por_pred, labels=labels, target_names=labels))\n",
        "\n",
        "print(\"Math Social - Dummy Classifer Classication Report\")\n",
        "print(classification_report(matytest2, dummy_math_pred2, labels=labels, target_names=labels))\n",
        "print(\"Portuguese Social - Dummy Classifer Classication Report\")\n",
        "print(classification_report(porytest2, dummy_por_pred2, labels=labels, target_names=labels))"
      ],
      "execution_count": null,
      "outputs": [
        {
          "output_type": "stream",
          "text": [
            "Math - Dummy Classifer Classication Report\n",
            "              precision    recall  f1-score   support\n",
            "\n",
            "        Pass       0.74      0.45      0.56        55\n",
            "        Fail       0.33      0.62      0.43        24\n",
            "\n",
            "    accuracy                           0.51        79\n",
            "   macro avg       0.53      0.54      0.50        79\n",
            "weighted avg       0.61      0.51      0.52        79\n",
            "\n",
            "Portuguese - Dummy Classifer Classication Report\n",
            "              precision    recall  f1-score   support\n",
            "\n",
            "        Pass       0.79      0.42      0.54       106\n",
            "        Fail       0.16      0.50      0.24        24\n",
            "\n",
            "    accuracy                           0.43       130\n",
            "   macro avg       0.47      0.46      0.39       130\n",
            "weighted avg       0.67      0.43      0.49       130\n",
            "\n",
            "Math Social - Dummy Classifer Classication Report\n",
            "              precision    recall  f1-score   support\n",
            "\n",
            "        Pass       0.70      0.60      0.65        55\n",
            "        Fail       0.31      0.42      0.36        24\n",
            "\n",
            "    accuracy                           0.54        79\n",
            "   macro avg       0.51      0.51      0.50        79\n",
            "weighted avg       0.58      0.54      0.56        79\n",
            "\n",
            "Portuguese Social - Dummy Classifer Classication Report\n",
            "              precision    recall  f1-score   support\n",
            "\n",
            "        Pass       0.84      0.46      0.60       106\n",
            "        Fail       0.21      0.62      0.31        24\n",
            "\n",
            "    accuracy                           0.49       130\n",
            "   macro avg       0.53      0.54      0.46       130\n",
            "weighted avg       0.73      0.49      0.54       130\n",
            "\n"
          ],
          "name": "stdout"
        }
      ]
    },
    {
      "cell_type": "code",
      "metadata": {
        "colab": {
          "base_uri": "https://localhost:8080/",
          "height": 286
        },
        "id": "4PJ1DdegoNch",
        "outputId": "2f719955-c67b-4343-aa4c-b384ae63dc5f"
      },
      "source": [
        "confusion_math_d = confusion_matrix(matytest, dummy_math_pred, labels=labels)\n",
        "confusion_por_d = confusion_matrix(porytest, dummy_por_pred, labels=labels)\n",
        "sns.heatmap(confusion_math_d, annot=True, cbar=True, xticklabels=labels, yticklabels=labels, fmt='g')"
      ],
      "execution_count": null,
      "outputs": [
        {
          "output_type": "execute_result",
          "data": {
            "text/plain": [
              "<matplotlib.axes._subplots.AxesSubplot at 0x7f58dcab8dd0>"
            ]
          },
          "metadata": {
            "tags": []
          },
          "execution_count": 13
        },
        {
          "output_type": "display_data",
          "data": {
            "image/png": "[encoded data removed]",
            "text/plain": [
              "<Figure size 432x288 with 2 Axes>"
            ]
          },
          "metadata": {
            "tags": [],
            "needs_background": "light"
          }
        }
      ]
    },
    {
      "cell_type": "code",
      "metadata": {
        "colab": {
          "base_uri": "https://localhost:8080/",
          "height": 282
        },
        "id": "mYnf1PuloPjZ",
        "outputId": "3bbbd9eb-1732-4249-d49a-8b807bd7f714"
      },
      "source": [
        "sns.heatmap(confusion_por_d, annot=True, cbar=True, xticklabels=labels, yticklabels=labels, fmt='g')"
      ],
      "execution_count": null,
      "outputs": [
        {
          "output_type": "execute_result",
          "data": {
            "text/plain": [
              "<matplotlib.axes._subplots.AxesSubplot at 0x7f58dcab8fd0>"
            ]
          },
          "metadata": {
            "tags": []
          },
          "execution_count": 14
        },
        {
          "output_type": "display_data",
          "data": {
            "image/png": "[encoded data removed]",
            "text/plain": [
              "<Figure size 432x288 with 2 Axes>"
            ]
          },
          "metadata": {
            "tags": [],
            "needs_background": "light"
          }
        }
      ]
    },
    {
      "cell_type": "code",
      "metadata": {
        "colab": {
          "base_uri": "https://localhost:8080/",
          "height": 282
        },
        "id": "t9DPuCWuoRwJ",
        "outputId": "d1c22b71-e857-4ea3-f778-916348de004a"
      },
      "source": [
        "confusion_math_d_social = confusion_matrix(matytest2, dummy_math_pred2, labels=labels)\n",
        "confusion_por_d_social = confusion_matrix(porytest2, dummy_por_pred2, labels=labels)\n",
        "sns.heatmap(confusion_math_d_social, annot=True, cbar=True, xticklabels=labels, yticklabels=labels, fmt='g')"
      ],
      "execution_count": null,
      "outputs": [
        {
          "output_type": "execute_result",
          "data": {
            "text/plain": [
              "<matplotlib.axes._subplots.AxesSubplot at 0x7f58dc1f6490>"
            ]
          },
          "metadata": {
            "tags": []
          },
          "execution_count": 15
        },
        {
          "output_type": "display_data",
          "data": {
            "image/png": "[encoded data removed]",
            "text/plain": [
              "<Figure size 432x288 with 2 Axes>"
            ]
          },
          "metadata": {
            "tags": [],
            "needs_background": "light"
          }
        }
      ]
    },
    {
      "cell_type": "code",
      "metadata": {
        "colab": {
          "base_uri": "https://localhost:8080/",
          "height": 282
        },
        "id": "KSj4rm_DoUCw",
        "outputId": "471e644c-6b53-4d64-c242-66747f32c705"
      },
      "source": [
        "sns.heatmap(confusion_por_d_social, annot=True, cbar=True, xticklabels=labels, yticklabels=labels, fmt='g')"
      ],
      "execution_count": null,
      "outputs": [
        {
          "output_type": "execute_result",
          "data": {
            "text/plain": [
              "<matplotlib.axes._subplots.AxesSubplot at 0x7f58dc130ed0>"
            ]
          },
          "metadata": {
            "tags": []
          },
          "execution_count": 16
        },
        {
          "output_type": "display_data",
          "data": {
            "image/png": "[encoded data removed]",
            "text/plain": [
              "<Figure size 432x288 with 2 Axes>"
            ]
          },
          "metadata": {
            "tags": [],
            "needs_background": "light"
          }
        }
      ]
    },
    {
      "cell_type": "code",
      "metadata": {
        "colab": {
          "base_uri": "https://localhost:8080/"
        },
        "id": "8Fhlb0S-pG-R",
        "outputId": "c781d4d5-432f-40f3-f06f-2521772b8583"
      },
      "source": [
        "kfold = KFold(n_splits=10, shuffle=True)\n",
        "mat_score_d = cross_val_score(dummy_math, df_mat, y_mat, cv=kfold)\n",
        "por_score_d = cross_val_score(dummy_por, df_por, y_por, cv=kfold)\n",
        "print(\"Cross-Validation Max Score Dummy Classifier (Math) {:.2f}\".format(mat_score_d[mat_score_d.argmax()]))\n",
        "print(\"Cross-Validation Max Score Dummy Classifier (Por) {:.2f}\".format(por_score_d[por_score_d.argmax()]))\n",
        "\n",
        "mat_score_d2 = cross_val_score(dummy_math_social, df_mat_social, y_mat, cv=kfold)\n",
        "por_score_d2 = cross_val_score(dummy_por_social, df_por_social, y_por, cv=kfold)\n",
        "print(\"Cross-Validation Max Score Dummy Classifier (Math-Social) {:.2f}\".format(mat_score_d2.mean()))\n",
        "print(\"Cross-Validation Max Score Dummy Classifier (Por-Social) {:.2f}\".format(por_score_d2.mean()))"
      ],
      "execution_count": null,
      "outputs": [
        {
          "output_type": "stream",
          "text": [
            "Cross-Validation Max Score Dummy Classifier (Math) 0.60\n",
            "Cross-Validation Max Score Dummy Classifier (Por) 0.59\n",
            "Cross-Validation Max Score Dummy Classifier (Math-Social) 0.50\n",
            "Cross-Validation Max Score Dummy Classifier (Por-Social) 0.48\n"
          ],
          "name": "stdout"
        }
      ]
    },
    {
      "cell_type": "markdown",
      "metadata": {
        "id": "1IJRM9EHZkmp"
      },
      "source": [
        "\n",
        "\n",
        "---\n",
        "\n",
        "\n",
        "#Random Forest Classifier\n",
        "###By Matt S.\n",
        "\n",
        "\n",
        "---\n",
        "\n"
      ]
    },
    {
      "cell_type": "code",
      "metadata": {
        "id": "-37wrH_goXZX"
      },
      "source": [
        "# Determine best n_estimators parameter for Random Forest Classification\n",
        "def get_n_estimators(df_X, df_Y):\n",
        "  Xtrain, Xtest, ytrain, ytest = train_test_split(df_X, df_Y, test_size=0.2, random_state=1)  \n",
        "  n_estimators = [1, 2, 4, 8, 16, 32, 64, 100, 200, 400]\n",
        "  test_results = []\n",
        "  test_results2 = []\n",
        "  for estimator in n_estimators:\n",
        "    rf = RandomForestClassifier(n_estimators=estimator)\n",
        "    rf.fit(Xtrain, ytrain)\n",
        "    test_f1 = f1_score(ytest, rf.predict(Xtest), labels=labels, pos_label=labels[0])\n",
        "    test_f1_2 = f1_score(ytest, rf.predict(Xtest), labels=labels, pos_label=labels[1])\n",
        "    test_results.append(test_f1)\n",
        "    test_results2.append(test_f1_2)\n",
        "  plt.plot(n_estimators, test_results, 'b', label=\"f1 Score\")\n",
        "  plt.plot(n_estimators, test_results2, 'r', label=\"f1 Score\")\n",
        "  plt.ylabel('F1 Score')\n",
        "  plt.xlabel('n_estimators')\n",
        "  plt.show()"
      ],
      "execution_count": null,
      "outputs": []
    },
    {
      "cell_type": "code",
      "metadata": {
        "id": "dmmrTPgLobx4"
      },
      "source": [
        "# Determine best n_estimators parameter for Random Forest Classification\n",
        "def get_max_depth(df_X, df_Y, n_estimators):  \n",
        "  max_depth = [1, 2, 3, 4, 5, 6, 7, 8, 9, 10, 11, 12, 13, 14, 15]\n",
        "  Xtrain, Xtest, ytrain, ytest = train_test_split(df_X, df_Y, test_size=0.2, random_state=1)  \n",
        "  test_results  = []\n",
        "  test_results2 = []\n",
        "  for estimator in max_depth:\n",
        "    rf = RandomForestClassifier(n_estimators=n_estimators, max_depth=estimator)\n",
        "    rf.fit(Xtrain, ytrain)\n",
        "    test_f1 = f1_score(ytest, rf.predict(Xtest), labels=labels, pos_label=labels[0])\n",
        "    test_f2 = f1_score(ytest, rf.predict(Xtest), labels=labels, pos_label=labels[1])\n",
        "    test_results.append(test_f1)\n",
        "    test_results2.append(test_f2)\n",
        "  plt.plot(max_depth, test_results, 'b', label=\"f1 Score\")\n",
        "\n",
        "  plt.ylabel('F1 Score')\n",
        "  plt.xlabel('max_depth')\n",
        "  plt.show()"
      ],
      "execution_count": null,
      "outputs": []
    },
    {
      "cell_type": "code",
      "metadata": {
        "colab": {
          "base_uri": "https://localhost:8080/",
          "height": 1000
        },
        "id": "oBuj7APdoZLI",
        "outputId": "044172fd-2e44-48d9-d4c8-cc3b5aebdf19"
      },
      "source": [
        "get_n_estimators(df_mat, y_mat)\n",
        "get_n_estimators(df_por, y_por)\n",
        "get_n_estimators(df_mat_social, y_mat)\n",
        "get_n_estimators(df_por_social, y_por)"
      ],
      "execution_count": null,
      "outputs": [
        {
          "output_type": "display_data",
          "data": {
            "image/png": "[encoded data removed]",
            "text/plain": [
              "<Figure size 432x288 with 1 Axes>"
            ]
          },
          "metadata": {
            "tags": [],
            "needs_background": "light"
          }
        },
        {
          "output_type": "display_data",
          "data": {
            "image/png": "[encoded data removed]",
            "text/plain": [
              "<Figure size 432x288 with 1 Axes>"
            ]
          },
          "metadata": {
            "tags": [],
            "needs_background": "light"
          }
        },
        {
          "output_type": "display_data",
          "data": {
            "image/png": "[encoded data removed]",
            "text/plain": [
              "<Figure size 432x288 with 1 Axes>"
            ]
          },
          "metadata": {
            "tags": [],
            "needs_background": "light"
          }
        },
        {
          "output_type": "display_data",
          "data": {
            "image/png": "[encoded data removed]",
            "text/plain": [
              "<Figure size 432x288 with 1 Axes>"
            ]
          },
          "metadata": {
            "tags": [],
            "needs_background": "light"
          }
        }
      ]
    },
    {
      "cell_type": "code",
      "metadata": {
        "colab": {
          "base_uri": "https://localhost:8080/",
          "height": 1000
        },
        "id": "zi2TWDqiohKP",
        "outputId": "ad225678-a133-428b-80c3-c268d2e4e9ea"
      },
      "source": [
        "get_max_depth(df_mat, y_mat, 100)\n",
        "get_max_depth(df_por, y_por, 100)\n",
        "get_max_depth(df_mat_social, y_mat, 100)\n",
        "get_max_depth(df_por_social, y_por, 100)"
      ],
      "execution_count": null,
      "outputs": [
        {
          "output_type": "display_data",
          "data": {
            "image/png": "[encoded data removed]",
            "text/plain": [
              "<Figure size 432x288 with 1 Axes>"
            ]
          },
          "metadata": {
            "tags": [],
            "needs_background": "light"
          }
        },
        {
          "output_type": "display_data",
          "data": {
            "image/png": "[encoded data removed]",
            "text/plain": [
              "<Figure size 432x288 with 1 Axes>"
            ]
          },
          "metadata": {
            "tags": [],
            "needs_background": "light"
          }
        },
        {
          "output_type": "display_data",
          "data": {
            "image/png": "[encoded data removed]",
            "text/plain": [
              "<Figure size 432x288 with 1 Axes>"
            ]
          },
          "metadata": {
            "tags": [],
            "needs_background": "light"
          }
        },
        {
          "output_type": "display_data",
          "data": {
            "image/png": "[encoded data removed]",
            "text/plain": [
              "<Figure size 432x288 with 1 Axes>"
            ]
          },
          "metadata": {
            "tags": [],
            "needs_background": "light"
          }
        }
      ]
    },
    {
      "cell_type": "code",
      "metadata": {
        "id": "dOhx6jbOqDYN"
      },
      "source": [
        "# Generate, fit, and test RandomForestClassifier for the Math and Portuguese data sets.\n",
        "mat_rf = RandomForestClassifier(max_features='sqrt', max_depth=9, n_estimators=100)\n",
        "por_rf = RandomForestClassifier(max_features='sqrt', max_depth=9, n_estimators=100)\n",
        "\n",
        "mat_rf.fit(matXtrain, matytrain)\n",
        "por_rf.fit(porXtrain, porytrain)\n",
        "\n",
        "mat_pred_rf = mat_rf.predict(matXtest)\n",
        "por_pred_rf = por_rf.predict(porXtest)\n",
        "\n",
        "mat_rf_social = RandomForestClassifier(max_features='sqrt', max_depth=9, n_estimators=100)\n",
        "por_rf_social = RandomForestClassifier(max_features='sqrt', max_depth=9, n_estimators=100)\n",
        "\n",
        "mat_rf_social.fit(matXtrain2, matytrain2)\n",
        "por_rf_social.fit(porXtrain2, porytrain2)\n",
        "\n",
        "mat_pred_rf_social = mat_rf_social.predict(matXtest2)\n",
        "por_pred_rf_social = por_rf_social.predict(porXtest2)"
      ],
      "execution_count": null,
      "outputs": []
    },
    {
      "cell_type": "code",
      "metadata": {
        "colab": {
          "base_uri": "https://localhost:8080/",
          "height": 282
        },
        "id": "0AWO0olvormV",
        "outputId": "430e1e23-77ef-46e0-9d2f-1b8372314aab"
      },
      "source": [
        "confusion_math = confusion_matrix(matytest, mat_pred_rf, labels=labels)\n",
        "confusion_por = confusion_matrix(porytest, por_pred_rf, labels=labels)\n",
        "sns.heatmap(confusion_math, annot=True, cbar=True, xticklabels=labels, yticklabels=labels, fmt='g')\n",
        "print(\"Confusion Matrix - Math (All Predictors)\")"
      ],
      "execution_count": null,
      "outputs": [
        {
          "output_type": "stream",
          "text": [
            "Confusion Matrix - Math (All Predictors)\n"
          ],
          "name": "stdout"
        },
        {
          "output_type": "display_data",
          "data": {
            "image/png": "[encoded data removed]",
            "text/plain": [
              "<Figure size 432x288 with 2 Axes>"
            ]
          },
          "metadata": {
            "tags": [],
            "needs_background": "light"
          }
        }
      ]
    },
    {
      "cell_type": "code",
      "metadata": {
        "colab": {
          "base_uri": "https://localhost:8080/",
          "height": 282
        },
        "id": "ZKEmXqvLotod",
        "outputId": "942a3b30-c3d5-4777-d9fb-30c08f451a64"
      },
      "source": [
        "sns.heatmap(confusion_por, annot=True, cbar=True, xticklabels=labels, yticklabels=labels, fmt='g')\n",
        "print(\"Confusion Matrix - Portuguese (All Predictors)\")"
      ],
      "execution_count": null,
      "outputs": [
        {
          "output_type": "stream",
          "text": [
            "Confusion Matrix - Portuguese (All Predictors)\n"
          ],
          "name": "stdout"
        },
        {
          "output_type": "display_data",
          "data": {
            "image/png": "[encoded data removed]",
            "text/plain": [
              "<Figure size 432x288 with 2 Axes>"
            ]
          },
          "metadata": {
            "tags": [],
            "needs_background": "light"
          }
        }
      ]
    },
    {
      "cell_type": "code",
      "metadata": {
        "colab": {
          "base_uri": "https://localhost:8080/",
          "height": 282
        },
        "id": "NIN2Ix9RovKc",
        "outputId": "5d8a54bd-60bb-4786-bebc-6932686d11db"
      },
      "source": [
        "confusion_math2 = confusion_matrix(matytest2, mat_pred_rf_social, labels=labels)\n",
        "confusion_por2 = confusion_matrix(porytest2, por_pred_rf_social, labels=labels)\n",
        "sns.heatmap(confusion_math2, annot=True, cbar=True, xticklabels=labels, yticklabels=labels, fmt='g')\n",
        "print(\"Confusion Matrix - Math (Without G1/G2 Predictors)\")"
      ],
      "execution_count": null,
      "outputs": [
        {
          "output_type": "stream",
          "text": [
            "Confusion Matrix - Math (Without G1/G2 Predictors)\n"
          ],
          "name": "stdout"
        },
        {
          "output_type": "display_data",
          "data": {
            "image/png": "[encoded data removed]",
            "text/plain": [
              "<Figure size 432x288 with 2 Axes>"
            ]
          },
          "metadata": {
            "tags": [],
            "needs_background": "light"
          }
        }
      ]
    },
    {
      "cell_type": "code",
      "metadata": {
        "colab": {
          "base_uri": "https://localhost:8080/",
          "height": 282
        },
        "id": "nArCGts5ow2E",
        "outputId": "952a620d-e0ef-4c64-9876-255e89d916d4"
      },
      "source": [
        "sns.heatmap(confusion_por2, annot=True, cbar=True, xticklabels=labels, yticklabels=labels, fmt='g')\n",
        "print(\"Confusion Matrix - Portuguese (Without G1/G2 Predictors)\")"
      ],
      "execution_count": null,
      "outputs": [
        {
          "output_type": "stream",
          "text": [
            "Confusion Matrix - Portuguese (Without G1/G2 Predictors)\n"
          ],
          "name": "stdout"
        },
        {
          "output_type": "display_data",
          "data": {
            "image/png": "[encoded data removed]",
            "text/plain": [
              "<Figure size 432x288 with 2 Axes>"
            ]
          },
          "metadata": {
            "tags": [],
            "needs_background": "light"
          }
        }
      ]
    },
    {
      "cell_type": "code",
      "metadata": {
        "colab": {
          "base_uri": "https://localhost:8080/"
        },
        "id": "5sHKrcO3oy78",
        "outputId": "2add3e39-5a7e-457e-ce14-37f73078cb9d"
      },
      "source": [
        "print(\"Math - Random Forest (All predictor) Classication Report\")\n",
        "print(classification_report(matytest, mat_pred_rf, labels=labels, target_names=labels))\n",
        "print(\"Portuguese - Random Forest (All predictor) Classication Report\")\n",
        "print(classification_report(porytest, por_pred_rf, labels=labels, target_names=labels))\n",
        "\n",
        "print(\"Math - Random Forest (Without G1/G2) Classication Report\")\n",
        "print(classification_report(matytest2, mat_pred_rf_social, labels=labels, target_names=labels))\n",
        "print(\"Portuguese - Random Forest (Without G1/G2) Classication Report\")\n",
        "print(classification_report(porytest2, por_pred_rf_social, labels=labels, target_names=labels))"
      ],
      "execution_count": null,
      "outputs": [
        {
          "output_type": "stream",
          "text": [
            "Math - Random Forest (All predictor) Classication Report\n",
            "              precision    recall  f1-score   support\n",
            "\n",
            "        Pass       0.94      0.93      0.94        55\n",
            "        Fail       0.84      0.88      0.86        24\n",
            "\n",
            "    accuracy                           0.91        79\n",
            "   macro avg       0.89      0.90      0.90        79\n",
            "weighted avg       0.91      0.91      0.91        79\n",
            "\n",
            "Portuguese - Random Forest (All predictor) Classication Report\n",
            "              precision    recall  f1-score   support\n",
            "\n",
            "        Pass       0.90      0.98      0.94       106\n",
            "        Fail       0.87      0.54      0.67        24\n",
            "\n",
            "    accuracy                           0.90       130\n",
            "   macro avg       0.89      0.76      0.80       130\n",
            "weighted avg       0.90      0.90      0.89       130\n",
            "\n",
            "Math - Random Forest (Without G1/G2) Classication Report\n",
            "              precision    recall  f1-score   support\n",
            "\n",
            "        Pass       0.80      0.87      0.83        55\n",
            "        Fail       0.63      0.50      0.56        24\n",
            "\n",
            "    accuracy                           0.76        79\n",
            "   macro avg       0.72      0.69      0.70        79\n",
            "weighted avg       0.75      0.76      0.75        79\n",
            "\n",
            "Portuguese - Random Forest (Without G1/G2) Classication Report\n",
            "              precision    recall  f1-score   support\n",
            "\n",
            "        Pass       0.83      1.00      0.91       106\n",
            "        Fail       1.00      0.12      0.22        24\n",
            "\n",
            "    accuracy                           0.84       130\n",
            "   macro avg       0.92      0.56      0.57       130\n",
            "weighted avg       0.87      0.84      0.78       130\n",
            "\n"
          ],
          "name": "stdout"
        }
      ]
    },
    {
      "cell_type": "code",
      "metadata": {
        "colab": {
          "base_uri": "https://localhost:8080/",
          "height": 296
        },
        "id": "LPOc22PGqRJz",
        "outputId": "6c1df2db-5b7d-4805-e327-e0ed6cc73e65"
      },
      "source": [
        "# Calculate and Show PRC results\n",
        "precision, recall, thresholds = precision_recall_curve(matytest, mat_rf.predict_proba(matXtest)[:, 1], pos_label=labels[0])\n",
        "close_zero = np.argmin(np.abs(thresholds))\n",
        "plt.plot(precision[close_zero], recall[close_zero], 'o', markersize=10,\n",
        "         label=\"threshold zero\", fillstyle=\"none\", c='k', mew=2)\n",
        "\n",
        "plt.plot(precision, recall, label=\"precision recall curve\")\n",
        "plt.xlabel(\"Precision\")\n",
        "plt.ylabel(\"Recall\")\n",
        "plt.legend(loc=\"best\")"
      ],
      "execution_count": null,
      "outputs": [
        {
          "output_type": "execute_result",
          "data": {
            "text/plain": [
              "<matplotlib.legend.Legend at 0x7fe8c47d3bd0>"
            ]
          },
          "metadata": {
            "tags": []
          },
          "execution_count": 39
        },
        {
          "output_type": "display_data",
          "data": {
            "image/png": "[encoded data removed]",
            "text/plain": [
              "<Figure size 432x288 with 1 Axes>"
            ]
          },
          "metadata": {
            "tags": [],
            "needs_background": "light"
          }
        }
      ]
    },
    {
      "cell_type": "code",
      "metadata": {
        "colab": {
          "base_uri": "https://localhost:8080/",
          "height": 296
        },
        "id": "KGJoLqf0kdZW",
        "outputId": "e6afe89c-cfa8-497c-aeae-8466a0669935"
      },
      "source": [
        "# Calculate and show ROC Curve\n",
        "fpr, tpr, thresholds = roc_curve(matytest, mat_rf.predict_proba(matXtest)[:, 1], pos_label=labels[0])\n",
        "\n",
        "plt.plot(fpr, tpr, label=\"ROC Curve\")\n",
        "plt.xlabel(\"FPR\")\n",
        "plt.ylabel(\"TPR (recall)\")\n",
        "# find threshold closest to zero\n",
        "close_zero = np.argmin(np.abs(thresholds))\n",
        "plt.plot(fpr[close_zero], tpr[close_zero], 'o', markersize=10,\n",
        "         label=\"threshold zero\", fillstyle=\"none\", c='k', mew=2)\n",
        "plt.legend(loc=4)"
      ],
      "execution_count": null,
      "outputs": [
        {
          "output_type": "execute_result",
          "data": {
            "text/plain": [
              "<matplotlib.legend.Legend at 0x7fe8c47a32d0>"
            ]
          },
          "metadata": {
            "tags": []
          },
          "execution_count": 40
        },
        {
          "output_type": "display_data",
          "data": {
            "image/png": "[encoded data removed]",
            "text/plain": [
              "<Figure size 432x288 with 1 Axes>"
            ]
          },
          "metadata": {
            "tags": [],
            "needs_background": "light"
          }
        }
      ]
    },
    {
      "cell_type": "code",
      "metadata": {
        "id": "MRchdboQMdxB",
        "colab": {
          "base_uri": "https://localhost:8080/",
          "height": 280
        },
        "outputId": "3102dfd6-6ce1-409a-d5f7-12f7bd9d3b85"
      },
      "source": [
        "# Plot the importance rank of each feature in the math dataset \n",
        "\n",
        "Importance = pd.DataFrame({'Importance':mat_rf.feature_importances_*100}, \n",
        "                          index = df_por.columns)\n",
        "\n",
        "Importance.sort_values(by = 'Importance', \n",
        "                       axis = 0, \n",
        "                       ascending = True).plot(kind = 'barh', \n",
        "                                              color = 'r', )\n",
        "\n",
        "plt.xlabel('Variable Importance')\n",
        "plt.gca().legend_ = None"
      ],
      "execution_count": null,
      "outputs": [
        {
          "output_type": "display_data",
          "data": {
            "image/png": "[encoded data removed]",
            "text/plain": [
              "<Figure size 432x288 with 1 Axes>"
            ]
          },
          "metadata": {
            "tags": [],
            "needs_background": "light"
          }
        }
      ]
    },
    {
      "cell_type": "code",
      "metadata": {
        "id": "2RopyBMCwXNA",
        "colab": {
          "base_uri": "https://localhost:8080/",
          "height": 280
        },
        "outputId": "c9ad1d56-288f-4307-fe66-9c66141e4e57"
      },
      "source": [
        "# Plot the importance rank of each feature in the portugese dataset \n",
        "\n",
        "Importance = pd.DataFrame({'Importance':por_rf.feature_importances_*100}, \n",
        "                          index = df_por.columns)\n",
        "\n",
        "Importance.sort_values(by = 'Importance', \n",
        "                       axis = 0, \n",
        "                       ascending = True).plot(kind = 'barh', \n",
        "                                              color = 'r', )\n",
        "\n",
        "plt.xlabel('Variable Importance')\n",
        "plt.gca().legend_ = None"
      ],
      "execution_count": null,
      "outputs": [
        {
          "output_type": "display_data",
          "data": {
            "image/png": "[encoded data removed]",
            "text/plain": [
              "<Figure size 432x288 with 1 Axes>"
            ]
          },
          "metadata": {
            "tags": [],
            "needs_background": "light"
          }
        }
      ]
    },
    {
      "cell_type": "code",
      "metadata": {
        "id": "udbrt6TPs_BZ",
        "colab": {
          "base_uri": "https://localhost:8080/",
          "height": 280
        },
        "outputId": "cd12f35f-9f0b-43ad-9f1a-81ce74b05cbd"
      },
      "source": [
        "# Plot the importance rank of each feature in the math social dataset \n",
        "\n",
        "Importance = pd.DataFrame({'Importance':mat_rf_social.feature_importances_*100}, \n",
        "                          index = df_mat_social.columns)\n",
        "\n",
        "Importance.sort_values(by = 'Importance', \n",
        "                       axis = 0, \n",
        "                       ascending = True).plot(kind = 'barh', \n",
        "                                              color = 'r', )\n",
        "\n",
        "plt.xlabel('Variable Importance')\n",
        "plt.gca().legend_ = None"
      ],
      "execution_count": null,
      "outputs": [
        {
          "output_type": "display_data",
          "data": {
            "image/png": "[encoded data removed]",
            "text/plain": [
              "<Figure size 432x288 with 1 Axes>"
            ]
          },
          "metadata": {
            "tags": [],
            "needs_background": "light"
          }
        }
      ]
    },
    {
      "cell_type": "code",
      "metadata": {
        "id": "TXo4Lh3Ts9Fi",
        "colab": {
          "base_uri": "https://localhost:8080/",
          "height": 280
        },
        "outputId": "d4645919-13bd-44bf-99bb-c7ceae6703b4"
      },
      "source": [
        "# Plot the importance rank of each feature in the portuguese social dataset \n",
        "\n",
        "Importance = pd.DataFrame({'Importance':por_rf_social.feature_importances_*100}, \n",
        "                          index = df_por_social.columns)\n",
        "\n",
        "Importance.sort_values(by = 'Importance', \n",
        "                       axis = 0, \n",
        "                       ascending = True).plot(kind = 'barh', \n",
        "                                              color = 'r', )\n",
        "\n",
        "plt.xlabel('Variable Importance')\n",
        "plt.gca().legend_ = None"
      ],
      "execution_count": null,
      "outputs": [
        {
          "output_type": "display_data",
          "data": {
            "image/png": "[encoded data removed]",
            "text/plain": [
              "<Figure size 432x288 with 1 Axes>"
            ]
          },
          "metadata": {
            "tags": [],
            "needs_background": "light"
          }
        }
      ]
    },
    {
      "cell_type": "code",
      "metadata": {
        "id": "4tNbVlafsXIQ",
        "colab": {
          "base_uri": "https://localhost:8080/"
        },
        "outputId": "8e4189a0-11d7-4d79-8e78-d94c4e6ee954"
      },
      "source": [
        "rf_mat_score = cross_val_score(mat_rf, df_mat, y_mat, cv=kfold)\n",
        "rf_por_score = cross_val_score(por_rf, df_por, y_por, cv=kfold)\n",
        "print(\"Cross-Validation Max Score (Math) {:.2f}\".format(rf_mat_score[mat_score.argmax()]))\n",
        "print(\"Cross-Validation Max Score (Por) {:.2f}\".format(rf_por_score[por_score.argmax()]))\n",
        "\n",
        "# Cross Validation Random Forest - Social Only\n",
        "mat_score_rf_social = cross_val_score(mat_rf_social, df_mat_social, y_mat, cv=kfold)\n",
        "por_score_rf_social = cross_val_score(por_rf_social, df_por_social, y_por, cv=kfold)\n",
        "print(\"Cross-Validation Max Score Random Forest (Math-Social) {:.2f}\".format(mat_score_rf_social.mean()))\n",
        "print(\"Cross-Validation Max Score Random Forest (Por-Social) {:.2f}\".format(por_score_rf_social.mean()))"
      ],
      "execution_count": null,
      "outputs": [
        {
          "output_type": "stream",
          "text": [
            "Cross-Validation Max Score (Math) 0.97\n",
            "Cross-Validation Max Score (Por) 0.94\n",
            "Cross-Validation Max Score Random Forest (Math-Social) 0.70\n",
            "Cross-Validation Max Score Random Forest (Por-Social) 0.84\n"
          ],
          "name": "stdout"
        }
      ]
    },
    {
      "cell_type": "markdown",
      "metadata": {
        "id": "MjVRtC1qcAtF"
      },
      "source": [
        "\n",
        "\n",
        "---\n",
        "\n",
        "#LDA Classifiers\n",
        "####By Allison A. \n",
        "\n",
        "---\n",
        "\n"
      ]
    },
    {
      "cell_type": "markdown",
      "metadata": {
        "id": "WqMYq4_BZdi5"
      },
      "source": [
        "###Linear Discriminant Analysis"
      ]
    },
    {
      "cell_type": "code",
      "metadata": {
        "id": "h2dwzzW4-8PO"
      },
      "source": [
        "# CREATE LDA CLASSIFIER FOR MATH & POR DATA ####################################\n",
        "lda1 = LinearDiscriminantAnalysis() \n",
        "lda2 = LinearDiscriminantAnalysis()\n",
        "lda_soc1 = LinearDiscriminantAnalysis()\n",
        "lda_soc2 = LinearDiscriminantAnalysis()"
      ],
      "execution_count": null,
      "outputs": []
    },
    {
      "cell_type": "code",
      "metadata": {
        "id": "Wuc9oEPecXde"
      },
      "source": [
        "# create a LDA classifier w/ G1&G2\n",
        "math_lda = lda1.fit(matXtrain, matytrain)\n",
        "por_lda = lda2.fit(porXtrain, porytrain)\n",
        "# use model to predict test data's y values\n",
        "math_pred_lda = math_lda.predict(matXtest)\n",
        "por_pred_lda = por_lda.predict(porXtest)\n",
        "\n",
        "# create LDA classifier w/out G1&G2 (social)\n",
        "math_lda_social = lda_soc1.fit(matXtrain2, matytrain2)\n",
        "por_lda_social = lda_soc2.fit(porXtrain2, porytrain2)\n",
        "# use model to predict test data's y values\n",
        "math_pred_lda_social = math_lda_social.predict(matXtest2)\n",
        "por_pred_lda_social = por_lda_social.predict(porXtest2)"
      ],
      "execution_count": null,
      "outputs": []
    },
    {
      "cell_type": "code",
      "metadata": {
        "colab": {
          "base_uri": "https://localhost:8080/"
        },
        "id": "mcO9wBHe0h4V",
        "outputId": "d6589fb8-dbc8-41ef-e947-590bb0b5eead"
      },
      "source": [
        "# print the overall score for each model before feature selection\n",
        "print(\"\\nLDA Score (Math): {:.2f}\".format(math_lda.score(matXtest, matytest)))\n",
        "print(\"LDA Score (Por) : {:.2f}\".format(por_lda.score(matXtest, matytest)))\n",
        "\n",
        "print(\"\\nLDA Score (Math) Social: {:.2f}\".format(math_lda_social.score(matXtest2, matytest2)))\n",
        "print(\"LDA Score (Por) Social: {:.2f}\".format(por_lda_social.score(matXtest2, matytest2)))"
      ],
      "execution_count": null,
      "outputs": [
        {
          "output_type": "stream",
          "text": [
            "\n",
            "LDA Score (Math): 0.90\n",
            "LDA Score (Por) : 0.77\n",
            "\n",
            "LDA Score (Math) Social: 0.68\n",
            "LDA Score (Por) Social: 0.73\n"
          ],
          "name": "stdout"
        }
      ]
    },
    {
      "cell_type": "code",
      "metadata": {
        "colab": {
          "base_uri": "https://localhost:8080/"
        },
        "id": "nfFs3hc2ByOo",
        "outputId": "7bdb3972-aedf-4b34-84e5-da3071018c75"
      },
      "source": [
        "# print classification report\n",
        "print('LDA Classification Report, Math Scores (w/ grades)')\n",
        "print(classification_report(matytest, math_pred_lda))\n",
        "print('\\nLDA Classification Report, Portuguese Scores (w/ grades)')\n",
        "print(classification_report(porytest, por_pred_lda))\n",
        "\n",
        "print('\\nLDA Classification Report, Math Scores Social (w/out grades)')\n",
        "print(classification_report(matytest2, math_pred_lda_social))\n",
        "print('\\nLDA Classification Report, Por Scores Social (w/out grades)')\n",
        "print(classification_report(porytest2, por_pred_lda_social))"
      ],
      "execution_count": null,
      "outputs": [
        {
          "output_type": "stream",
          "text": [
            "LDA Classification Report, Math Scores (w/ grades)\n",
            "              precision    recall  f1-score   support\n",
            "\n",
            "        Fail       0.86      0.79      0.83        24\n",
            "        Pass       0.91      0.95      0.93        55\n",
            "\n",
            "    accuracy                           0.90        79\n",
            "   macro avg       0.89      0.87      0.88        79\n",
            "weighted avg       0.90      0.90      0.90        79\n",
            "\n",
            "\n",
            "LDA Classification Report, Portuguese Scores (w/ grades)\n",
            "              precision    recall  f1-score   support\n",
            "\n",
            "        Fail       0.83      0.42      0.56        24\n",
            "        Pass       0.88      0.98      0.93       106\n",
            "\n",
            "    accuracy                           0.88       130\n",
            "   macro avg       0.86      0.70      0.74       130\n",
            "weighted avg       0.87      0.88      0.86       130\n",
            "\n",
            "\n",
            "LDA Classification Report, Math Scores Social (w/out grades)\n",
            "              precision    recall  f1-score   support\n",
            "\n",
            "        Fail       0.48      0.46      0.47        24\n",
            "        Pass       0.77      0.78      0.77        55\n",
            "\n",
            "    accuracy                           0.68        79\n",
            "   macro avg       0.62      0.62      0.62        79\n",
            "weighted avg       0.68      0.68      0.68        79\n",
            "\n",
            "\n",
            "LDA Classification Report, Por Scores Social (w/out grades)\n",
            "              precision    recall  f1-score   support\n",
            "\n",
            "        Fail       0.86      0.25      0.39        24\n",
            "        Pass       0.85      0.99      0.92       106\n",
            "\n",
            "    accuracy                           0.85       130\n",
            "   macro avg       0.86      0.62      0.65       130\n",
            "weighted avg       0.85      0.85      0.82       130\n",
            "\n"
          ],
          "name": "stdout"
        }
      ]
    },
    {
      "cell_type": "code",
      "metadata": {
        "id": "wYTS_3Cvv-Ae"
      },
      "source": [
        "# FORWWARD STEP SUBSET SELECTION ###############################################\n",
        "# Forward-Step Subset Predictor for LDA classifier\n",
        "def processSubsetLDA(feature_set, attributes, modelType, dataFrame, yValues,):\n",
        "    # fit model\n",
        "    model = modelType.fit(dataFrame[list(feature_set)], yValues)\n",
        "    # Calculate f1_score\n",
        "    f1Score = f1_score(y_true=yValues, \n",
        "                       y_pred=model.predict(dataFrame[list(feature_set)]), \n",
        "                       labels=[\"Pass\", \"Fail\"], \n",
        "                       pos_label=\"Pass\")\n",
        "    # Record attribute set used to fit the model\n",
        "    attributes.append(list(feature_set))\n",
        "    # Return the model and the f1_score\n",
        "    return {\"model\":model, \"f1Score\":f1Score}\n",
        "\n",
        "def forwardLDA(predictors, modelType, dataFrame, yValues):\n",
        "    # Pull out predictors we still need to process\n",
        "    remaining_predictors = [p for p in dataFrame.columns if p not in predictors]\n",
        "\n",
        "    tic = time.time()\n",
        "    \n",
        "    results = []    # Dictionary containing model and f1-score\n",
        "    attributes = [] # 2D list of attributes used for each model \n",
        "    for p in remaining_predictors:\n",
        "        results.append(processSubsetLDA(predictors+[p], attributes, \n",
        "                                     modelType, dataFrame, yValues))\n",
        "    \n",
        "    # Dataframe of the results for all models generated\n",
        "    models = pd.DataFrame(results)\n",
        "    \n",
        "    # Choose the model with the highest f1_score\n",
        "    best_model = models.loc[models['f1Score'].idxmax()]\n",
        "    \n",
        "    toc = time.time()\n",
        "    print(\"Processed \", models.shape[0], \"models on\", len(predictors)+1, \n",
        "          \"predictors in\", (toc-tic), \"seconds.\")\n",
        "    \n",
        "    # Return the best model, the set of attributes associated w/ the best model\n",
        "    return best_model, attributes[models['f1Score'].idxmax()]"
      ],
      "execution_count": null,
      "outputs": []
    },
    {
      "cell_type": "code",
      "metadata": {
        "colab": {
          "base_uri": "https://localhost:8080/"
        },
        "id": "aY8wI-YTyOTV",
        "outputId": "819ad575-06f8-4be7-b330-9c98484865e7"
      },
      "source": [
        "# FS math data (w/ grades)\n",
        "models_math_lda = pd.DataFrame(columns=[\"f1Score\", \"model\"])\n",
        "tic = time.time()\n",
        "predictors_lda = []               # Which predictors have been used for a model\n",
        "model_predictors_math_lda = []    # 2D list of the best attributes for each of the best models\n",
        "\n",
        "# model to perform forward-best subset selection on\n",
        "model = LinearDiscriminantAnalysis()\n",
        "\n",
        "bestF1Score = 0\n",
        "f1_location_math = -1\n",
        "\n",
        "for i in range(1, len(df_mat.columns)+1):\n",
        "    models_math_lda.loc[i], predictors_lda = forwardLDA(predictors_lda, model, df_mat, y_mat)\n",
        "    model_predictors_math_lda.append(predictors_lda)\n",
        "    if models_math_lda[\"f1Score\"].loc[i] > bestF1Score:\n",
        "      bestF1Score = models_math_lda[\"f1Score\"].loc[i]\n",
        "      f1_location_math = i\n",
        "\n",
        "toc = time.time()\n",
        "print(\"Total elapsed time:\", (toc-tic), \"seconds.\")\n",
        "\n",
        "# save best model for ease of access \n",
        "best_model_math = models_math_lda[\"model\"].loc[f1_location_math-1]\n",
        "\n",
        "print(\"\\nBest F1 Score: \", bestF1Score)\n",
        "print(\"Location of model: \", f1_location_math)\n",
        "print(\"Predictors used: \", model_predictors_math_lda[f1_location_math])"
      ],
      "execution_count": null,
      "outputs": [
        {
          "output_type": "stream",
          "text": [
            "Processed  32 models on 1 predictors in 0.21153783798217773 seconds.\n",
            "Processed  31 models on 2 predictors in 0.23485469818115234 seconds.\n",
            "Processed  30 models on 3 predictors in 0.2196657657623291 seconds.\n",
            "Processed  29 models on 4 predictors in 0.21193575859069824 seconds.\n",
            "Processed  28 models on 5 predictors in 0.1998605728149414 seconds.\n",
            "Processed  27 models on 6 predictors in 0.21548891067504883 seconds.\n",
            "Processed  26 models on 7 predictors in 0.19799208641052246 seconds.\n",
            "Processed  25 models on 8 predictors in 0.19307661056518555 seconds.\n",
            "Processed  24 models on 9 predictors in 0.17177772521972656 seconds.\n",
            "Processed  23 models on 10 predictors in 0.17503738403320312 seconds.\n",
            "Processed  22 models on 11 predictors in 0.17248773574829102 seconds.\n",
            "Processed  21 models on 12 predictors in 0.17234134674072266 seconds.\n",
            "Processed  20 models on 13 predictors in 0.15306806564331055 seconds.\n",
            "Processed  19 models on 14 predictors in 0.16193628311157227 seconds.\n",
            "Processed  18 models on 15 predictors in 0.14096379280090332 seconds.\n",
            "Processed  17 models on 16 predictors in 0.15465497970581055 seconds.\n",
            "Processed  16 models on 17 predictors in 0.1353135108947754 seconds.\n",
            "Processed  15 models on 18 predictors in 0.13048601150512695 seconds.\n",
            "Processed  14 models on 19 predictors in 0.12154150009155273 seconds.\n",
            "Processed  13 models on 20 predictors in 0.1166543960571289 seconds.\n",
            "Processed  12 models on 21 predictors in 0.1115105152130127 seconds.\n",
            "Processed  11 models on 22 predictors in 0.15302491188049316 seconds.\n",
            "Processed  10 models on 23 predictors in 0.13882994651794434 seconds.\n",
            "Processed  9 models on 24 predictors in 0.21709823608398438 seconds.\n",
            "Processed  8 models on 25 predictors in 0.15561413764953613 seconds.\n",
            "Processed  7 models on 26 predictors in 0.20951628684997559 seconds.\n",
            "Processed  6 models on 27 predictors in 0.17224383354187012 seconds.\n",
            "Processed  5 models on 28 predictors in 0.14646148681640625 seconds.\n",
            "Processed  4 models on 29 predictors in 0.09109067916870117 seconds.\n",
            "Processed  3 models on 30 predictors in 0.08843326568603516 seconds.\n",
            "Processed  2 models on 31 predictors in 0.06088900566101074 seconds.\n",
            "Processed  1 models on 32 predictors in 0.019638538360595703 seconds.\n",
            "Total elapsed time: 5.266201734542847 seconds.\n",
            "\n",
            "Best F1 Score:  0.9643527204502814\n",
            "Location of model:  21\n",
            "Predictors used:  ['G2', 'Fjob', 'guardian', 'G1', 'internet', 'school', 'sex', 'studytime', 'famsup', 'higher', 'famsize', 'traveltime', 'Fedu', 'reason', 'Pstatus', 'romantic', 'age', 'schoolsup', 'Dalc', 'Walc', 'health', 'freetime']\n"
          ],
          "name": "stdout"
        }
      ]
    },
    {
      "cell_type": "code",
      "metadata": {
        "colab": {
          "base_uri": "https://localhost:8080/"
        },
        "id": "qT6m7Smy1k6p",
        "outputId": "9887da93-838c-4020-b773-6404b54e4251"
      },
      "source": [
        "# FS por data (w/ grades)\n",
        "models_por_lda = pd.DataFrame(columns=[\"f1Score\", \"model\"])\n",
        "tic = time.time()\n",
        "predictors_lda = []               # Which predictors have been used for a model\n",
        "model_predictors_por_lda = []     # 2D list of the best attributes for each of the best models\n",
        "\n",
        "# model to perform forward-best subset selection on\n",
        "model = LinearDiscriminantAnalysis()\n",
        "\n",
        "bestF1Score = 0\n",
        "f1_location_por = -1\n",
        "\n",
        "for i in range(1, len(df_por.columns)+1):\n",
        "    models_por_lda.loc[i], predictors_lda = forwardLDA(predictors_lda, model, df_por, y_por)\n",
        "    model_predictors_por_lda.append(predictors_lda)\n",
        "    if models_por_lda[\"f1Score\"].loc[i] > bestF1Score:\n",
        "      bestF1Score = models_por_lda[\"f1Score\"].loc[i]\n",
        "      f1_location_por = i\n",
        "\n",
        "toc = time.time()\n",
        "print(\"Total elapsed time:\", (toc-tic), \"seconds.\")\n",
        "\n",
        "# save best model for ease of access \n",
        "best_model_por = models_por_lda[\"model\"].loc[f1_location_por-1]\n",
        "\n",
        "print(\"\\nBest F1 Score: \", bestF1Score)\n",
        "print(\"Location of model: \", f1_location_por)\n",
        "print(\"Predictors used: \", model_predictors_por_lda[f1_location_por])"
      ],
      "execution_count": null,
      "outputs": [
        {
          "output_type": "stream",
          "text": [
            "Processed  32 models on 1 predictors in 0.2747182846069336 seconds.\n",
            "Processed  31 models on 2 predictors in 0.28916454315185547 seconds.\n",
            "Processed  30 models on 3 predictors in 0.28115296363830566 seconds.\n",
            "Processed  29 models on 4 predictors in 0.28354763984680176 seconds.\n",
            "Processed  28 models on 5 predictors in 0.260509729385376 seconds.\n",
            "Processed  27 models on 6 predictors in 0.2617182731628418 seconds.\n",
            "Processed  26 models on 7 predictors in 0.25405240058898926 seconds.\n",
            "Processed  25 models on 8 predictors in 0.25028252601623535 seconds.\n",
            "Processed  24 models on 9 predictors in 0.24331903457641602 seconds.\n",
            "Processed  23 models on 10 predictors in 0.2320566177368164 seconds.\n",
            "Processed  22 models on 11 predictors in 0.2245769500732422 seconds.\n",
            "Processed  21 models on 12 predictors in 0.21442294120788574 seconds.\n",
            "Processed  20 models on 13 predictors in 0.21535634994506836 seconds.\n",
            "Processed  19 models on 14 predictors in 0.32185840606689453 seconds.\n",
            "Processed  18 models on 15 predictors in 0.4412417411804199 seconds.\n",
            "Processed  17 models on 16 predictors in 0.45758509635925293 seconds.\n",
            "Processed  16 models on 17 predictors in 0.4083127975463867 seconds.\n",
            "Processed  15 models on 18 predictors in 0.4233238697052002 seconds.\n",
            "Processed  14 models on 19 predictors in 0.29645323753356934 seconds.\n",
            "Processed  13 models on 20 predictors in 0.2718522548675537 seconds.\n",
            "Processed  12 models on 21 predictors in 0.3250124454498291 seconds.\n",
            "Processed  11 models on 22 predictors in 0.35353517532348633 seconds.\n",
            "Processed  10 models on 23 predictors in 0.24362516403198242 seconds.\n",
            "Processed  9 models on 24 predictors in 0.24452924728393555 seconds.\n",
            "Processed  8 models on 25 predictors in 0.28130531311035156 seconds.\n",
            "Processed  7 models on 26 predictors in 0.14930009841918945 seconds.\n",
            "Processed  6 models on 27 predictors in 0.20772266387939453 seconds.\n",
            "Processed  5 models on 28 predictors in 0.10996460914611816 seconds.\n",
            "Processed  4 models on 29 predictors in 0.16376686096191406 seconds.\n",
            "Processed  3 models on 30 predictors in 0.09948182106018066 seconds.\n",
            "Processed  2 models on 31 predictors in 0.07611489295959473 seconds.\n",
            "Processed  1 models on 32 predictors in 0.026279926300048828 seconds.\n",
            "Total elapsed time: 8.409725189208984 seconds.\n",
            "\n",
            "Best F1 Score:  0.9664902998236332\n",
            "Location of model:  18\n",
            "Predictors used:  ['G1', 'G2', 'Fjob', 'nursery', 'Mjob', 'sex', 'internet', 'famrel', 'absences', 'Pstatus', 'romantic', 'Dalc', 'paid', 'famsize', 'Medu', 'freetime', 'activities', 'traveltime', 'studytime']\n"
          ],
          "name": "stdout"
        }
      ]
    },
    {
      "cell_type": "code",
      "metadata": {
        "colab": {
          "base_uri": "https://localhost:8080/"
        },
        "id": "UOFNPXGp1oYZ",
        "outputId": "930a70d4-95a9-411b-b753-259ccba2671c"
      },
      "source": [
        "# FS math social data (w/out grades)\n",
        "models_math_soc_lda = pd.DataFrame(columns=[\"f1Score\", \"model\"])\n",
        "tic = time.time()\n",
        "predictors_lda = []                   # Which predictors have been used for a model\n",
        "model_predictors_math_soc_lda = []    # 2D list of the best attributes for each of the best models\n",
        "\n",
        "# model to perform forward-best subset selection on\n",
        "model = LinearDiscriminantAnalysis()\n",
        "\n",
        "bestF1Score = 0\n",
        "f1_location_math_soc = -1\n",
        "\n",
        "for i in range(1, len(df_mat_social.columns)+1):\n",
        "    models_math_soc_lda.loc[i], predictors_lda = forwardLDA(predictors_lda, model, df_mat_social, y_mat)\n",
        "    model_predictors_math_soc_lda.append(predictors_lda)\n",
        "    if models_math_soc_lda[\"f1Score\"].loc[i] > bestF1Score:\n",
        "      bestF1Score = models_math_soc_lda[\"f1Score\"].loc[i]\n",
        "      f1_location_math_soc = i\n",
        "\n",
        "toc = time.time()\n",
        "print(\"Total elapsed time:\", (toc-tic), \"seconds.\")\n",
        "\n",
        "# save best model for ease of access \n",
        "best_model_math_soc = models_math_soc_lda[\"model\"].loc[f1_location_math_soc-1]\n",
        "\n",
        "print(\"\\nBest F1 Score: \", bestF1Score)\n",
        "print(\"Location of model: \", f1_location_math_soc)\n",
        "print(\"Predictors used: \", model_predictors_math_soc_lda[f1_location_math_soc])"
      ],
      "execution_count": null,
      "outputs": [
        {
          "output_type": "stream",
          "text": [
            "Processed  30 models on 1 predictors in 0.19127130508422852 seconds.\n",
            "Processed  29 models on 2 predictors in 0.22825407981872559 seconds.\n",
            "Processed  28 models on 3 predictors in 0.22117280960083008 seconds.\n",
            "Processed  27 models on 4 predictors in 0.21569204330444336 seconds.\n",
            "Processed  26 models on 5 predictors in 0.1879110336303711 seconds.\n",
            "Processed  25 models on 6 predictors in 0.18938136100769043 seconds.\n",
            "Processed  24 models on 7 predictors in 0.17831206321716309 seconds.\n",
            "Processed  23 models on 8 predictors in 0.17776274681091309 seconds.\n",
            "Processed  22 models on 9 predictors in 0.16486644744873047 seconds.\n",
            "Processed  21 models on 10 predictors in 0.16372275352478027 seconds.\n",
            "Processed  20 models on 11 predictors in 0.15761685371398926 seconds.\n",
            "Processed  19 models on 12 predictors in 0.15674853324890137 seconds.\n",
            "Processed  18 models on 13 predictors in 0.1501607894897461 seconds.\n",
            "Processed  17 models on 14 predictors in 0.13693833351135254 seconds.\n",
            "Processed  16 models on 15 predictors in 0.13604187965393066 seconds.\n",
            "Processed  15 models on 16 predictors in 0.12760162353515625 seconds.\n",
            "Processed  14 models on 17 predictors in 0.1165773868560791 seconds.\n",
            "Processed  13 models on 18 predictors in 0.10781979560852051 seconds.\n",
            "Processed  12 models on 19 predictors in 0.1000220775604248 seconds.\n",
            "Processed  11 models on 20 predictors in 0.09649014472961426 seconds.\n",
            "Processed  10 models on 21 predictors in 0.09067392349243164 seconds.\n",
            "Processed  9 models on 22 predictors in 0.13681387901306152 seconds.\n",
            "Processed  8 models on 23 predictors in 0.11252856254577637 seconds.\n",
            "Processed  7 models on 24 predictors in 0.19748830795288086 seconds.\n",
            "Processed  6 models on 25 predictors in 0.14154767990112305 seconds.\n",
            "Processed  5 models on 26 predictors in 0.08223605155944824 seconds.\n",
            "Processed  4 models on 27 predictors in 0.11622476577758789 seconds.\n",
            "Processed  3 models on 28 predictors in 0.04346752166748047 seconds.\n",
            "Processed  2 models on 29 predictors in 0.06208014488220215 seconds.\n",
            "Processed  1 models on 30 predictors in 0.057596683502197266 seconds.\n",
            "Total elapsed time: 4.447672128677368 seconds.\n",
            "\n",
            "Best F1 Score:  0.8380634390651086\n",
            "Location of model:  15\n",
            "Predictors used:  ['failures', 'Medu', 'age', 'nursery', 'Dalc', 'Fedu', 'Fjob', 'traveltime', 'guardian', 'freetime', 'Pstatus', 'address', 'school', 'Mjob', 'activities', 'Walc']\n"
          ],
          "name": "stdout"
        }
      ]
    },
    {
      "cell_type": "code",
      "metadata": {
        "colab": {
          "base_uri": "https://localhost:8080/"
        },
        "id": "P9Owc8df1pNY",
        "outputId": "d8fb3ca8-e79c-4bbf-b190-d33087980d12"
      },
      "source": [
        "# FS por social data (w/out grades)\n",
        "models_por_soc_lda = pd.DataFrame(columns=[\"f1Score\", \"model\"])\n",
        "tic = time.time()\n",
        "predictors_lda = []                   # Which predictors have been used for a model\n",
        "model_predictors_por_soc_lda = []     # 2D list of the best attributes for each of the best models\n",
        "\n",
        "# model to perform forward-best subset selection on\n",
        "model = LinearDiscriminantAnalysis()\n",
        "\n",
        "bestF1Score = 0\n",
        "f1_location_por_soc = -1\n",
        "\n",
        "for i in range(1, len(df_por_social.columns)+1):\n",
        "    models_por_soc_lda.loc[i], predictors_lda = forwardLDA(predictors_lda, model, df_por_social, y_por)\n",
        "    model_predictors_por_soc_lda.append(predictors_lda)\n",
        "    if models_por_soc_lda[\"f1Score\"].loc[i] > bestF1Score:\n",
        "      bestF1Score = models_por_soc_lda[\"f1Score\"].loc[i]\n",
        "      f1_location_por_soc = i\n",
        "\n",
        "toc = time.time()\n",
        "print(\"Total elapsed time:\", (toc-tic), \"seconds.\")\n",
        "\n",
        "# save best model for ease of access \n",
        "best_model_por_soc = models_por_soc_lda[\"model\"].loc[f1_location_por_soc-1]\n",
        "\n",
        "print(\"\\nBest F1 Score: \", bestF1Score)\n",
        "print(\"Location of model: \", f1_location_por_soc)\n",
        "print(\"Predictors used: \", model_predictors_por_soc_lda[f1_location_por_soc])"
      ],
      "execution_count": null,
      "outputs": [
        {
          "output_type": "stream",
          "text": [
            "Processed  30 models on 1 predictors in 0.26379871368408203 seconds.\n",
            "Processed  29 models on 2 predictors in 0.25951170921325684 seconds.\n",
            "Processed  28 models on 3 predictors in 0.27211475372314453 seconds.\n",
            "Processed  27 models on 4 predictors in 0.2544240951538086 seconds.\n",
            "Processed  26 models on 5 predictors in 0.2415294647216797 seconds.\n",
            "Processed  25 models on 6 predictors in 0.24507427215576172 seconds.\n",
            "Processed  24 models on 7 predictors in 0.24422478675842285 seconds.\n",
            "Processed  23 models on 8 predictors in 0.23427748680114746 seconds.\n",
            "Processed  22 models on 9 predictors in 0.22500109672546387 seconds.\n",
            "Processed  21 models on 10 predictors in 0.21132254600524902 seconds.\n",
            "Processed  20 models on 11 predictors in 0.202897310256958 seconds.\n",
            "Processed  19 models on 12 predictors in 0.19437623023986816 seconds.\n",
            "Processed  18 models on 13 predictors in 0.19501399993896484 seconds.\n",
            "Processed  17 models on 14 predictors in 0.2835419178009033 seconds.\n",
            "Processed  16 models on 15 predictors in 0.2852499485015869 seconds.\n",
            "Processed  15 models on 16 predictors in 0.3710136413574219 seconds.\n",
            "Processed  14 models on 17 predictors in 0.4886796474456787 seconds.\n",
            "Processed  13 models on 18 predictors in 0.3131392002105713 seconds.\n",
            "Processed  12 models on 19 predictors in 0.3292863368988037 seconds.\n",
            "Processed  11 models on 20 predictors in 0.3327610492706299 seconds.\n",
            "Processed  10 models on 21 predictors in 0.3301577568054199 seconds.\n",
            "Processed  9 models on 22 predictors in 0.18068337440490723 seconds.\n",
            "Processed  8 models on 23 predictors in 0.22011995315551758 seconds.\n",
            "Processed  7 models on 24 predictors in 0.17164993286132812 seconds.\n",
            "Processed  6 models on 25 predictors in 0.13532209396362305 seconds.\n",
            "Processed  5 models on 26 predictors in 0.12667131423950195 seconds.\n",
            "Processed  4 models on 27 predictors in 0.08583235740661621 seconds.\n",
            "Processed  3 models on 28 predictors in 0.09458303451538086 seconds.\n",
            "Processed  2 models on 29 predictors in 0.09162402153015137 seconds.\n",
            "Processed  1 models on 30 predictors in 0.02184319496154785 seconds.\n",
            "Total elapsed time: 7.146178245544434 seconds.\n",
            "\n",
            "Best F1 Score:  0.9306409130816506\n",
            "Location of model:  13\n",
            "Predictors used:  ['failures', 'school', 'guardian', 'goout', 'age', 'Pstatus', 'Mjob', 'address', 'Medu', 'schoolsup', 'activities', 'romantic', 'nursery', 'famrel']\n"
          ],
          "name": "stdout"
        }
      ]
    },
    {
      "cell_type": "code",
      "metadata": {
        "id": "2WmwPRlI_KjK"
      },
      "source": [
        "# get predictions of new best models \n",
        "math_pred_lda = best_model_math.predict(matXtest)\n",
        "por_pred_lda = best_model_por.predict(porXtest)\n",
        "math_pred_lda_social = best_model_math_soc.predict(matXtest2)\n",
        "por_pred_lda_social = best_model_por_soc.predict(porXtest2)"
      ],
      "execution_count": null,
      "outputs": []
    },
    {
      "cell_type": "code",
      "metadata": {
        "colab": {
          "base_uri": "https://localhost:8080/"
        },
        "id": "-EEVt1c5jTRW",
        "outputId": "b1812371-a4c2-427e-b3af-3da8d2a8fa60"
      },
      "source": [
        "# print classification report\n",
        "print('LDA Classification Report, Math Scores (w/ grades)')\n",
        "print(classification_report(matytest, math_pred_lda))\n",
        "print('\\nLDA Classification Report, Portuguese Scores (w/ grades)')\n",
        "print(classification_report(porytest, por_pred_lda))\n",
        "\n",
        "print('\\nLDA Classification Report, Math Scores Social (w/out grades)')\n",
        "print(classification_report(matytest2, math_pred_lda_social))\n",
        "print('\\nLDA Classification Report, Portuguese Scores Social (w/out grades)')\n",
        "print(classification_report(porytest2, por_pred_lda_social))"
      ],
      "execution_count": null,
      "outputs": [
        {
          "output_type": "stream",
          "text": [
            "LDA Classification Report, Math Scores (w/ grades)\n",
            "              precision    recall  f1-score   support\n",
            "\n",
            "        Fail       0.41      0.38      0.39        24\n",
            "        Pass       0.74      0.76      0.75        55\n",
            "\n",
            "    accuracy                           0.65        79\n",
            "   macro avg       0.57      0.57      0.57        79\n",
            "weighted avg       0.64      0.65      0.64        79\n",
            "\n",
            "\n",
            "LDA Classification Report, Portuguese Scores (w/ grades)\n",
            "              precision    recall  f1-score   support\n",
            "\n",
            "        Fail       0.29      0.08      0.13        24\n",
            "        Pass       0.82      0.95      0.88       106\n",
            "\n",
            "    accuracy                           0.79       130\n",
            "   macro avg       0.55      0.52      0.51       130\n",
            "weighted avg       0.72      0.79      0.74       130\n",
            "\n",
            "\n",
            "LDA Classification Report, Math Scores Social (w/out grades)\n",
            "              precision    recall  f1-score   support\n",
            "\n",
            "        Fail       0.29      0.21      0.24        24\n",
            "        Pass       0.69      0.78      0.74        55\n",
            "\n",
            "    accuracy                           0.61        79\n",
            "   macro avg       0.49      0.50      0.49        79\n",
            "weighted avg       0.57      0.61      0.59        79\n",
            "\n",
            "\n",
            "LDA Classification Report, Portuguese Scores Social (w/out grades)\n",
            "              precision    recall  f1-score   support\n",
            "\n",
            "        Fail       0.20      0.08      0.12        24\n",
            "        Pass       0.82      0.92      0.87       106\n",
            "\n",
            "    accuracy                           0.77       130\n",
            "   macro avg       0.51      0.50      0.49       130\n",
            "weighted avg       0.70      0.77      0.73       130\n",
            "\n"
          ],
          "name": "stdout"
        }
      ]
    },
    {
      "cell_type": "code",
      "metadata": {
        "id": "myaz4B3XAwQe"
      },
      "source": [
        "# feature selection performed worse, reset prediction variables \n",
        "math_pred_lda = math_lda.predict(matXtest)\n",
        "por_pred_lda = por_lda.predict(porXtest)\n",
        "math_pred_lda_social = math_lda_social.predict(matXtest2)\n",
        "por_pred_lda_social = por_lda_social.predict(porXtest2)"
      ],
      "execution_count": null,
      "outputs": []
    },
    {
      "cell_type": "code",
      "metadata": {
        "id": "MwVZHN0Xl0Hf",
        "colab": {
          "base_uri": "https://localhost:8080/"
        },
        "outputId": "83b82dc3-3354-4efd-8727-cbb543990c49"
      },
      "source": [
        "# print the overall score for each model\n",
        "print(\"\\nLDA Score (Math): {:.2f}\".format(math_lda.score(matXtest, matytest)))\n",
        "print(\"LDA Score (Por) : {:.2f}\".format(por_lda.score(matXtest, matytest)))\n",
        "\n",
        "print(\"\\nLDA Score (Math) Social: {:.2f}\".format(math_lda_social.score(matXtest2, matytest2)))\n",
        "print(\"LDA Score (Por) Social: {:.2f}\".format(por_lda_social.score(matXtest2, matytest2)))"
      ],
      "execution_count": null,
      "outputs": [
        {
          "output_type": "stream",
          "text": [
            "\n",
            "LDA Score (Math): 0.90\n",
            "LDA Score (Por) : 0.77\n",
            "\n",
            "LDA Score (Math) Social: 0.68\n",
            "LDA Score (Por) Social: 0.73\n"
          ],
          "name": "stdout"
        }
      ]
    },
    {
      "cell_type": "code",
      "metadata": {
        "colab": {
          "base_uri": "https://localhost:8080/",
          "height": 316
        },
        "id": "a01vbKp2i6yW",
        "outputId": "d0344cef-64f9-405b-8e38-18d01c831bb6"
      },
      "source": [
        "# create the confusion matricies\n",
        "cm_math_lda = confusion_matrix(matytest, math_pred_lda, labels=labels)\n",
        "cm_por_lda = confusion_matrix(porytest, por_pred_lda, labels=labels)\n",
        "cm_math_lda_social = confusion_matrix(matytest2, math_pred_lda_social, labels=labels)\n",
        "cm_por_lda_social = confusion_matrix(porytest2, por_pred_lda_social, labels=labels)\n",
        "\n",
        "# show the heat maps for each confusion matrix\n",
        "print(\"\\nMath CM LDA (w/ grades): \")\n",
        "sns.heatmap(cm_math_lda, annot=True, cbar=True, xticklabels=labels, yticklabels=labels, fmt='g')"
      ],
      "execution_count": null,
      "outputs": [
        {
          "output_type": "stream",
          "text": [
            "\n",
            "Math CM LDA (w/ grades): \n"
          ],
          "name": "stdout"
        },
        {
          "output_type": "execute_result",
          "data": {
            "text/plain": [
              "<matplotlib.axes._subplots.AxesSubplot at 0x7fe8c48cc790>"
            ]
          },
          "metadata": {
            "tags": []
          },
          "execution_count": 59
        },
        {
          "output_type": "display_data",
          "data": {
            "image/png": "[encoded data removed]",
            "text/plain": [
              "<Figure size 432x288 with 2 Axes>"
            ]
          },
          "metadata": {
            "tags": [],
            "needs_background": "light"
          }
        }
      ]
    },
    {
      "cell_type": "code",
      "metadata": {
        "colab": {
          "base_uri": "https://localhost:8080/",
          "height": 316
        },
        "id": "5xsjwAFvsjq8",
        "outputId": "cc5a9c13-3f45-4e3e-d3e3-6119a9349f4f"
      },
      "source": [
        "print(\"\\nPortuguese CM LDA (w/ grades): \")\n",
        "sns.heatmap(cm_por_lda, annot=True, cbar=True, xticklabels=labels, yticklabels=labels, fmt='g')"
      ],
      "execution_count": null,
      "outputs": [
        {
          "output_type": "stream",
          "text": [
            "\n",
            "Portuguese CM LDA (w/ grades): \n"
          ],
          "name": "stdout"
        },
        {
          "output_type": "execute_result",
          "data": {
            "text/plain": [
              "<matplotlib.axes._subplots.AxesSubplot at 0x7fe8c4019ad0>"
            ]
          },
          "metadata": {
            "tags": []
          },
          "execution_count": 60
        },
        {
          "output_type": "display_data",
          "data": {
            "image/png": "[encoded data removed]",
            "text/plain": [
              "<Figure size 432x288 with 2 Axes>"
            ]
          },
          "metadata": {
            "tags": [],
            "needs_background": "light"
          }
        }
      ]
    },
    {
      "cell_type": "code",
      "metadata": {
        "colab": {
          "base_uri": "https://localhost:8080/",
          "height": 316
        },
        "id": "t5TdwN7Bsj-Q",
        "outputId": "4c73457f-779b-40ae-b392-1b83f59cbae3"
      },
      "source": [
        "print(\"\\nMath CM LDA Social (w/out grades): \")\n",
        "sns.heatmap(cm_math_lda, annot=True, cbar=True, xticklabels=labels, yticklabels=labels, fmt='g')"
      ],
      "execution_count": null,
      "outputs": [
        {
          "output_type": "stream",
          "text": [
            "\n",
            "Math CM LDA Social (w/out grades): \n"
          ],
          "name": "stdout"
        },
        {
          "output_type": "execute_result",
          "data": {
            "text/plain": [
              "<matplotlib.axes._subplots.AxesSubplot at 0x7fe8c44fb110>"
            ]
          },
          "metadata": {
            "tags": []
          },
          "execution_count": 61
        },
        {
          "output_type": "display_data",
          "data": {
            "image/png": "[encoded data removed]",
            "text/plain": [
              "<Figure size 432x288 with 2 Axes>"
            ]
          },
          "metadata": {
            "tags": [],
            "needs_background": "light"
          }
        }
      ]
    },
    {
      "cell_type": "code",
      "metadata": {
        "colab": {
          "base_uri": "https://localhost:8080/",
          "height": 316
        },
        "id": "ZjhJ8jfsskRs",
        "outputId": "314f6002-5608-40cd-8b50-4e95ad3e4b60"
      },
      "source": [
        "print(\"\\nPortuguese CM LDA Social (w/out grades): \")\n",
        "sns.heatmap(cm_math_lda, annot=True, cbar=True, xticklabels=labels, yticklabels=labels, fmt='g')"
      ],
      "execution_count": null,
      "outputs": [
        {
          "output_type": "stream",
          "text": [
            "\n",
            "Portuguese CM LDA Social (w/out grades): \n"
          ],
          "name": "stdout"
        },
        {
          "output_type": "execute_result",
          "data": {
            "text/plain": [
              "<matplotlib.axes._subplots.AxesSubplot at 0x7fe8c41028d0>"
            ]
          },
          "metadata": {
            "tags": []
          },
          "execution_count": 62
        },
        {
          "output_type": "display_data",
          "data": {
            "image/png": "[encoded data removed]",
            "text/plain": [
              "<Figure size 432x288 with 2 Axes>"
            ]
          },
          "metadata": {
            "tags": [],
            "needs_background": "light"
          }
        }
      ]
    },
    {
      "cell_type": "code",
      "metadata": {
        "colab": {
          "base_uri": "https://localhost:8080/",
          "height": 296
        },
        "id": "MIsqQcKPg5y8",
        "outputId": "f9b248da-9dc6-40f9-bd69-20b05085f482"
      },
      "source": [
        "# Calculate and Show PRC results\n",
        "precision, recall, thresholds = precision_recall_curve(matytest, math_lda.predict_proba(matXtest)[:, 1], pos_label=labels[0])\n",
        "close_zero = np.argmin(np.abs(thresholds))\n",
        "plt.plot(precision[close_zero], recall[close_zero], 'o', markersize=10,\n",
        "         label=\"threshold zero\", fillstyle=\"none\", c='k', mew=2)\n",
        "\n",
        "plt.plot(precision, recall, label=\"PR Curve LDA Math (All)\")\n",
        "plt.xlabel(\"Precision\")\n",
        "plt.ylabel(\"Recall\")\n",
        "plt.legend(loc=\"best\")"
      ],
      "execution_count": null,
      "outputs": [
        {
          "output_type": "execute_result",
          "data": {
            "text/plain": [
              "<matplotlib.legend.Legend at 0x7fe8b7d0a3d0>"
            ]
          },
          "metadata": {
            "tags": []
          },
          "execution_count": 117
        },
        {
          "output_type": "display_data",
          "data": {
            "image/png": "[encoded data removed]",
            "text/plain": [
              "<Figure size 432x288 with 1 Axes>"
            ]
          },
          "metadata": {
            "tags": [],
            "needs_background": "light"
          }
        }
      ]
    },
    {
      "cell_type": "code",
      "metadata": {
        "colab": {
          "base_uri": "https://localhost:8080/",
          "height": 296
        },
        "id": "0XjBjthIhRnY",
        "outputId": "d20fc8eb-8f4d-41f5-e765-3abeb9422e71"
      },
      "source": [
        "# Calculate and show ROC Curve\n",
        "fpr, tpr, thresholds = roc_curve(matytest, math_lda.predict_proba(matXtest)[:, 1], pos_label=labels[0])\n",
        "\n",
        "plt.plot(fpr, tpr, label=\"ROC Curve LDA Math (All)\")\n",
        "plt.xlabel(\"FPR\")\n",
        "plt.ylabel(\"TPR (recall)\")\n",
        "# find threshold closest to zero\n",
        "close_zero = np.argmin(np.abs(thresholds))\n",
        "plt.plot(fpr[close_zero], tpr[close_zero], 'o', markersize=10,\n",
        "         label=\"threshold zero\", fillstyle=\"none\", c='k', mew=2)\n",
        "plt.legend(loc=4)"
      ],
      "execution_count": null,
      "outputs": [
        {
          "output_type": "execute_result",
          "data": {
            "text/plain": [
              "<matplotlib.legend.Legend at 0x7fe8b7cdd610>"
            ]
          },
          "metadata": {
            "tags": []
          },
          "execution_count": 118
        },
        {
          "output_type": "display_data",
          "data": {
            "image/png": "[encoded data removed]",
            "text/plain": [
              "<Figure size 432x288 with 1 Axes>"
            ]
          },
          "metadata": {
            "tags": [],
            "needs_background": "light"
          }
        }
      ]
    },
    {
      "cell_type": "code",
      "metadata": {
        "id": "9MJJH_JWTDmu",
        "colab": {
          "base_uri": "https://localhost:8080/"
        },
        "outputId": "77c30171-085f-434d-f5c9-d5eb1c252e6f"
      },
      "source": [
        "# ASSESS THE LDA MODEL (FOR MATH & POR) USING K-FOLD CV ########################\n",
        "  # assess the adequacy of using the LDA model on these datasets \n",
        "\n",
        "# calculate k-fold cross validation on the math and por models (w/ grades)\n",
        "kfold = KFold(n_splits=10, shuffle=True)\n",
        "math_lda_cv_scores = cross_val_score(math_lda, df_mat, y_mat, cv=kfold)\n",
        "por_lda_cv_scores = cross_val_score(por_lda, df_por, y_por, cv=kfold)\n",
        "\n",
        "# print scores and mean of scores of each\n",
        "print(\"Cross-validation scores Math:\\n{}\".format(math_lda_cv_scores))\n",
        "print(\"Mean: {}\".format(math_lda_cv_scores.mean()))\n",
        "print(\"\\nCross-validation scores Portugese:\\n{}\".format(por_lda_cv_scores))\n",
        "print(\"Mean: {}\".format(por_lda_cv_scores.mean()))"
      ],
      "execution_count": null,
      "outputs": [
        {
          "output_type": "stream",
          "text": [
            "Cross-validation scores Math:\n",
            "[0.9        0.8        0.8        0.875      0.8        0.94871795\n",
            " 0.97435897 0.97435897 0.87179487 0.92307692]\n",
            "Mean: 0.8867307692307692\n",
            "\n",
            "Cross-validation scores Portugese:\n",
            "[0.90769231 0.89230769 0.87692308 0.92307692 0.90769231 0.92307692\n",
            " 0.89230769 0.93846154 0.90769231 0.9375    ]\n",
            "Mean: 0.9106730769230771\n"
          ],
          "name": "stdout"
        }
      ]
    },
    {
      "cell_type": "code",
      "metadata": {
        "colab": {
          "base_uri": "https://localhost:8080/"
        },
        "id": "RGeVRWUed7mn",
        "outputId": "3855b42f-86c8-42d2-c3e8-fef2b4729449"
      },
      "source": [
        "# calculate k-fold cross validation on the math and por SOCIAL models (w/out grades)\n",
        "kfold = KFold(n_splits=10, shuffle=True)\n",
        "math_soc_lda_cv_scores = cross_val_score(math_lda_social, df_mat_social, y_mat, cv=kfold)\n",
        "por_soc_lda_cv_scores = cross_val_score(por_lda_social, df_por_social, y_por, cv=kfold)\n",
        "\n",
        "# print scores and mean of scores of each\n",
        "print(\"Cross-validation scores Math Social:\\n{}\".format(math_soc_lda_cv_scores))\n",
        "print(\"Mean: {}\".format(math_soc_lda_cv_scores.mean()))\n",
        "print(\"\\nCross-validation scores Portugese (Social):\\n{}\".format(por_soc_lda_cv_scores))\n",
        "print(\"Mean: {}\".format(por_soc_lda_cv_scores.mean()))"
      ],
      "execution_count": null,
      "outputs": [
        {
          "output_type": "stream",
          "text": [
            "Cross-validation scores Math Social:\n",
            "[0.675      0.675      0.675      0.7        0.6        0.66666667\n",
            " 0.69230769 0.71794872 0.76923077 0.56410256]\n",
            "Mean: 0.6735256410256409\n",
            "\n",
            "Cross-validation scores Portugese (Social):\n",
            "[0.81538462 0.86153846 0.84615385 0.87692308 0.84615385 0.83076923\n",
            " 0.78461538 0.90769231 0.87692308 0.890625  ]\n",
            "Mean: 0.8536778846153847\n"
          ],
          "name": "stdout"
        }
      ]
    },
    {
      "cell_type": "markdown",
      "metadata": {
        "id": "EU9QAJSBUHKj"
      },
      "source": [
        "\n",
        "\n",
        "---\n",
        "\n",
        "\n",
        "#Support Vector Machines\n",
        "####By David H. \n",
        "\n",
        "\n",
        "---\n",
        "\n"
      ]
    },
    {
      "cell_type": "code",
      "metadata": {
        "id": "H24xv3WO2RCI",
        "colab": {
          "base_uri": "https://localhost:8080/",
          "height": 341
        },
        "outputId": "b6562ab9-1a37-4840-e0b7-dda7d3ac676c"
      },
      "source": [
        "#Find best parameters for models\n",
        "#WARNING: this takes forever to compile!\n",
        "param_grid = {'C': [0.1, 1, 10, 100, 1000], \n",
        "              'gamma': [1, 0.1, 0.01, 0.001, 0.0001],\n",
        "              'kernel': ['linear','poly','rbf']} \n",
        "  \n",
        "gridMat = GridSearchCV(SVC(), param_grid, cv=5, scoring='f1_micro',return_train_score=True)\n",
        "gridPor = GridSearchCV(SVC(), param_grid, cv=5, scoring='f1_micro',return_train_score=True)\n",
        "  \n",
        "#Fitting the model for grid search\n",
        "gridMat.fit(matXtrain, matytrain)\n",
        "gridPor.fit(porXtrain, porytrain)"
      ],
      "execution_count": null,
      "outputs": [
        {
          "output_type": "error",
          "ename": "KeyboardInterrupt",
          "evalue": "ignored",
          "traceback": [
            "\u001b[0;31m---------------------------------------------------------------------------\u001b[0m",
            "\u001b[0;31mKeyboardInterrupt\u001b[0m                         Traceback (most recent call last)",
            "\u001b[0;32m<ipython-input-71-11bc0817f763>\u001b[0m in \u001b[0;36m<module>\u001b[0;34m()\u001b[0m\n\u001b[1;32m     10\u001b[0m \u001b[0;31m#Fitting the model for grid search\u001b[0m\u001b[0;34m\u001b[0m\u001b[0;34m\u001b[0m\u001b[0;34m\u001b[0m\u001b[0m\n\u001b[1;32m     11\u001b[0m \u001b[0mgridMat\u001b[0m\u001b[0;34m.\u001b[0m\u001b[0mfit\u001b[0m\u001b[0;34m(\u001b[0m\u001b[0mmatXtrain\u001b[0m\u001b[0;34m,\u001b[0m \u001b[0mmatytrain\u001b[0m\u001b[0;34m)\u001b[0m\u001b[0;34m\u001b[0m\u001b[0;34m\u001b[0m\u001b[0m\n\u001b[0;32m---> 12\u001b[0;31m \u001b[0mgridPor\u001b[0m\u001b[0;34m.\u001b[0m\u001b[0mfit\u001b[0m\u001b[0;34m(\u001b[0m\u001b[0mporXtrain\u001b[0m\u001b[0;34m,\u001b[0m \u001b[0mporytrain\u001b[0m\u001b[0;34m)\u001b[0m\u001b[0;34m\u001b[0m\u001b[0;34m\u001b[0m\u001b[0m\n\u001b[0m",
            "\u001b[0;32m/usr/local/lib/python3.7/dist-packages/sklearn/model_selection/_search.py\u001b[0m in \u001b[0;36mfit\u001b[0;34m(self, X, y, groups, **fit_params)\u001b[0m\n\u001b[1;32m    708\u001b[0m                 \u001b[0;32mreturn\u001b[0m \u001b[0mresults\u001b[0m\u001b[0;34m\u001b[0m\u001b[0;34m\u001b[0m\u001b[0m\n\u001b[1;32m    709\u001b[0m \u001b[0;34m\u001b[0m\u001b[0m\n\u001b[0;32m--> 710\u001b[0;31m             \u001b[0mself\u001b[0m\u001b[0;34m.\u001b[0m\u001b[0m_run_search\u001b[0m\u001b[0;34m(\u001b[0m\u001b[0mevaluate_candidates\u001b[0m\u001b[0;34m)\u001b[0m\u001b[0;34m\u001b[0m\u001b[0;34m\u001b[0m\u001b[0m\n\u001b[0m\u001b[1;32m    711\u001b[0m \u001b[0;34m\u001b[0m\u001b[0m\n\u001b[1;32m    712\u001b[0m         \u001b[0;31m# For multi-metric evaluation, store the best_index_, best_params_ and\u001b[0m\u001b[0;34m\u001b[0m\u001b[0;34m\u001b[0m\u001b[0;34m\u001b[0m\u001b[0m\n",
            "\u001b[0;32m/usr/local/lib/python3.7/dist-packages/sklearn/model_selection/_search.py\u001b[0m in \u001b[0;36m_run_search\u001b[0;34m(self, evaluate_candidates)\u001b[0m\n\u001b[1;32m   1149\u001b[0m     \u001b[0;32mdef\u001b[0m \u001b[0m_run_search\u001b[0m\u001b[0;34m(\u001b[0m\u001b[0mself\u001b[0m\u001b[0;34m,\u001b[0m \u001b[0mevaluate_candidates\u001b[0m\u001b[0;34m)\u001b[0m\u001b[0;34m:\u001b[0m\u001b[0;34m\u001b[0m\u001b[0;34m\u001b[0m\u001b[0m\n\u001b[1;32m   1150\u001b[0m         \u001b[0;34m\"\"\"Search all candidates in param_grid\"\"\"\u001b[0m\u001b[0;34m\u001b[0m\u001b[0;34m\u001b[0m\u001b[0m\n\u001b[0;32m-> 1151\u001b[0;31m         \u001b[0mevaluate_candidates\u001b[0m\u001b[0;34m(\u001b[0m\u001b[0mParameterGrid\u001b[0m\u001b[0;34m(\u001b[0m\u001b[0mself\u001b[0m\u001b[0;34m.\u001b[0m\u001b[0mparam_grid\u001b[0m\u001b[0;34m)\u001b[0m\u001b[0;34m)\u001b[0m\u001b[0;34m\u001b[0m\u001b[0;34m\u001b[0m\u001b[0m\n\u001b[0m\u001b[1;32m   1152\u001b[0m \u001b[0;34m\u001b[0m\u001b[0m\n\u001b[1;32m   1153\u001b[0m \u001b[0;34m\u001b[0m\u001b[0m\n",
            "\u001b[0;32m/usr/local/lib/python3.7/dist-packages/sklearn/model_selection/_search.py\u001b[0m in \u001b[0;36mevaluate_candidates\u001b[0;34m(candidate_params)\u001b[0m\n\u001b[1;32m    687\u001b[0m                                \u001b[0;32mfor\u001b[0m \u001b[0mparameters\u001b[0m\u001b[0;34m,\u001b[0m \u001b[0;34m(\u001b[0m\u001b[0mtrain\u001b[0m\u001b[0;34m,\u001b[0m \u001b[0mtest\u001b[0m\u001b[0;34m)\u001b[0m\u001b[0;34m\u001b[0m\u001b[0;34m\u001b[0m\u001b[0m\n\u001b[1;32m    688\u001b[0m                                in product(candidate_params,\n\u001b[0;32m--> 689\u001b[0;31m                                           cv.split(X, y, groups)))\n\u001b[0m\u001b[1;32m    690\u001b[0m \u001b[0;34m\u001b[0m\u001b[0m\n\u001b[1;32m    691\u001b[0m                 \u001b[0;32mif\u001b[0m \u001b[0mlen\u001b[0m\u001b[0;34m(\u001b[0m\u001b[0mout\u001b[0m\u001b[0;34m)\u001b[0m \u001b[0;34m<\u001b[0m \u001b[0;36m1\u001b[0m\u001b[0;34m:\u001b[0m\u001b[0;34m\u001b[0m\u001b[0;34m\u001b[0m\u001b[0m\n",
            "\u001b[0;32m/usr/local/lib/python3.7/dist-packages/joblib/parallel.py\u001b[0m in \u001b[0;36m__call__\u001b[0;34m(self, iterable)\u001b[0m\n\u001b[1;32m   1042\u001b[0m                 \u001b[0mself\u001b[0m\u001b[0;34m.\u001b[0m\u001b[0m_iterating\u001b[0m \u001b[0;34m=\u001b[0m \u001b[0mself\u001b[0m\u001b[0;34m.\u001b[0m\u001b[0m_original_iterator\u001b[0m \u001b[0;32mis\u001b[0m \u001b[0;32mnot\u001b[0m \u001b[0;32mNone\u001b[0m\u001b[0;34m\u001b[0m\u001b[0;34m\u001b[0m\u001b[0m\n\u001b[1;32m   1043\u001b[0m \u001b[0;34m\u001b[0m\u001b[0m\n\u001b[0;32m-> 1044\u001b[0;31m             \u001b[0;32mwhile\u001b[0m \u001b[0mself\u001b[0m\u001b[0;34m.\u001b[0m\u001b[0mdispatch_one_batch\u001b[0m\u001b[0;34m(\u001b[0m\u001b[0miterator\u001b[0m\u001b[0;34m)\u001b[0m\u001b[0;34m:\u001b[0m\u001b[0;34m\u001b[0m\u001b[0;34m\u001b[0m\u001b[0m\n\u001b[0m\u001b[1;32m   1045\u001b[0m                 \u001b[0;32mpass\u001b[0m\u001b[0;34m\u001b[0m\u001b[0;34m\u001b[0m\u001b[0m\n\u001b[1;32m   1046\u001b[0m \u001b[0;34m\u001b[0m\u001b[0m\n",
            "\u001b[0;32m/usr/local/lib/python3.7/dist-packages/joblib/parallel.py\u001b[0m in \u001b[0;36mdispatch_one_batch\u001b[0;34m(self, iterator)\u001b[0m\n\u001b[1;32m    857\u001b[0m                 \u001b[0;32mreturn\u001b[0m \u001b[0;32mFalse\u001b[0m\u001b[0;34m\u001b[0m\u001b[0;34m\u001b[0m\u001b[0m\n\u001b[1;32m    858\u001b[0m             \u001b[0;32melse\u001b[0m\u001b[0;34m:\u001b[0m\u001b[0;34m\u001b[0m\u001b[0;34m\u001b[0m\u001b[0m\n\u001b[0;32m--> 859\u001b[0;31m                 \u001b[0mself\u001b[0m\u001b[0;34m.\u001b[0m\u001b[0m_dispatch\u001b[0m\u001b[0;34m(\u001b[0m\u001b[0mtasks\u001b[0m\u001b[0;34m)\u001b[0m\u001b[0;34m\u001b[0m\u001b[0;34m\u001b[0m\u001b[0m\n\u001b[0m\u001b[1;32m    860\u001b[0m                 \u001b[0;32mreturn\u001b[0m \u001b[0;32mTrue\u001b[0m\u001b[0;34m\u001b[0m\u001b[0;34m\u001b[0m\u001b[0m\n\u001b[1;32m    861\u001b[0m \u001b[0;34m\u001b[0m\u001b[0m\n",
            "\u001b[0;32m/usr/local/lib/python3.7/dist-packages/joblib/parallel.py\u001b[0m in \u001b[0;36m_dispatch\u001b[0;34m(self, batch)\u001b[0m\n\u001b[1;32m    775\u001b[0m         \u001b[0;32mwith\u001b[0m \u001b[0mself\u001b[0m\u001b[0;34m.\u001b[0m\u001b[0m_lock\u001b[0m\u001b[0;34m:\u001b[0m\u001b[0;34m\u001b[0m\u001b[0;34m\u001b[0m\u001b[0m\n\u001b[1;32m    776\u001b[0m             \u001b[0mjob_idx\u001b[0m \u001b[0;34m=\u001b[0m \u001b[0mlen\u001b[0m\u001b[0;34m(\u001b[0m\u001b[0mself\u001b[0m\u001b[0;34m.\u001b[0m\u001b[0m_jobs\u001b[0m\u001b[0;34m)\u001b[0m\u001b[0;34m\u001b[0m\u001b[0;34m\u001b[0m\u001b[0m\n\u001b[0;32m--> 777\u001b[0;31m             \u001b[0mjob\u001b[0m \u001b[0;34m=\u001b[0m \u001b[0mself\u001b[0m\u001b[0;34m.\u001b[0m\u001b[0m_backend\u001b[0m\u001b[0;34m.\u001b[0m\u001b[0mapply_async\u001b[0m\u001b[0;34m(\u001b[0m\u001b[0mbatch\u001b[0m\u001b[0;34m,\u001b[0m \u001b[0mcallback\u001b[0m\u001b[0;34m=\u001b[0m\u001b[0mcb\u001b[0m\u001b[0;34m)\u001b[0m\u001b[0;34m\u001b[0m\u001b[0;34m\u001b[0m\u001b[0m\n\u001b[0m\u001b[1;32m    778\u001b[0m             \u001b[0;31m# A job can complete so quickly than its callback is\u001b[0m\u001b[0;34m\u001b[0m\u001b[0;34m\u001b[0m\u001b[0;34m\u001b[0m\u001b[0m\n\u001b[1;32m    779\u001b[0m             \u001b[0;31m# called before we get here, causing self._jobs to\u001b[0m\u001b[0;34m\u001b[0m\u001b[0;34m\u001b[0m\u001b[0;34m\u001b[0m\u001b[0m\n",
            "\u001b[0;32m/usr/local/lib/python3.7/dist-packages/joblib/_parallel_backends.py\u001b[0m in \u001b[0;36mapply_async\u001b[0;34m(self, func, callback)\u001b[0m\n\u001b[1;32m    206\u001b[0m     \u001b[0;32mdef\u001b[0m \u001b[0mapply_async\u001b[0m\u001b[0;34m(\u001b[0m\u001b[0mself\u001b[0m\u001b[0;34m,\u001b[0m \u001b[0mfunc\u001b[0m\u001b[0;34m,\u001b[0m \u001b[0mcallback\u001b[0m\u001b[0;34m=\u001b[0m\u001b[0;32mNone\u001b[0m\u001b[0;34m)\u001b[0m\u001b[0;34m:\u001b[0m\u001b[0;34m\u001b[0m\u001b[0;34m\u001b[0m\u001b[0m\n\u001b[1;32m    207\u001b[0m         \u001b[0;34m\"\"\"Schedule a func to be run\"\"\"\u001b[0m\u001b[0;34m\u001b[0m\u001b[0;34m\u001b[0m\u001b[0m\n\u001b[0;32m--> 208\u001b[0;31m         \u001b[0mresult\u001b[0m \u001b[0;34m=\u001b[0m \u001b[0mImmediateResult\u001b[0m\u001b[0;34m(\u001b[0m\u001b[0mfunc\u001b[0m\u001b[0;34m)\u001b[0m\u001b[0;34m\u001b[0m\u001b[0;34m\u001b[0m\u001b[0m\n\u001b[0m\u001b[1;32m    209\u001b[0m         \u001b[0;32mif\u001b[0m \u001b[0mcallback\u001b[0m\u001b[0;34m:\u001b[0m\u001b[0;34m\u001b[0m\u001b[0;34m\u001b[0m\u001b[0m\n\u001b[1;32m    210\u001b[0m             \u001b[0mcallback\u001b[0m\u001b[0;34m(\u001b[0m\u001b[0mresult\u001b[0m\u001b[0;34m)\u001b[0m\u001b[0;34m\u001b[0m\u001b[0;34m\u001b[0m\u001b[0m\n",
            "\u001b[0;32m/usr/local/lib/python3.7/dist-packages/joblib/_parallel_backends.py\u001b[0m in \u001b[0;36m__init__\u001b[0;34m(self, batch)\u001b[0m\n\u001b[1;32m    570\u001b[0m         \u001b[0;31m# Don't delay the application, to avoid keeping the input\u001b[0m\u001b[0;34m\u001b[0m\u001b[0;34m\u001b[0m\u001b[0;34m\u001b[0m\u001b[0m\n\u001b[1;32m    571\u001b[0m         \u001b[0;31m# arguments in memory\u001b[0m\u001b[0;34m\u001b[0m\u001b[0;34m\u001b[0m\u001b[0;34m\u001b[0m\u001b[0m\n\u001b[0;32m--> 572\u001b[0;31m         \u001b[0mself\u001b[0m\u001b[0;34m.\u001b[0m\u001b[0mresults\u001b[0m \u001b[0;34m=\u001b[0m \u001b[0mbatch\u001b[0m\u001b[0;34m(\u001b[0m\u001b[0;34m)\u001b[0m\u001b[0;34m\u001b[0m\u001b[0;34m\u001b[0m\u001b[0m\n\u001b[0m\u001b[1;32m    573\u001b[0m \u001b[0;34m\u001b[0m\u001b[0m\n\u001b[1;32m    574\u001b[0m     \u001b[0;32mdef\u001b[0m \u001b[0mget\u001b[0m\u001b[0;34m(\u001b[0m\u001b[0mself\u001b[0m\u001b[0;34m)\u001b[0m\u001b[0;34m:\u001b[0m\u001b[0;34m\u001b[0m\u001b[0;34m\u001b[0m\u001b[0m\n",
            "\u001b[0;32m/usr/local/lib/python3.7/dist-packages/joblib/parallel.py\u001b[0m in \u001b[0;36m__call__\u001b[0;34m(self)\u001b[0m\n\u001b[1;32m    261\u001b[0m         \u001b[0;32mwith\u001b[0m \u001b[0mparallel_backend\u001b[0m\u001b[0;34m(\u001b[0m\u001b[0mself\u001b[0m\u001b[0;34m.\u001b[0m\u001b[0m_backend\u001b[0m\u001b[0;34m,\u001b[0m \u001b[0mn_jobs\u001b[0m\u001b[0;34m=\u001b[0m\u001b[0mself\u001b[0m\u001b[0;34m.\u001b[0m\u001b[0m_n_jobs\u001b[0m\u001b[0;34m)\u001b[0m\u001b[0;34m:\u001b[0m\u001b[0;34m\u001b[0m\u001b[0;34m\u001b[0m\u001b[0m\n\u001b[1;32m    262\u001b[0m             return [func(*args, **kwargs)\n\u001b[0;32m--> 263\u001b[0;31m                     for func, args, kwargs in self.items]\n\u001b[0m\u001b[1;32m    264\u001b[0m \u001b[0;34m\u001b[0m\u001b[0m\n\u001b[1;32m    265\u001b[0m     \u001b[0;32mdef\u001b[0m \u001b[0m__reduce__\u001b[0m\u001b[0;34m(\u001b[0m\u001b[0mself\u001b[0m\u001b[0;34m)\u001b[0m\u001b[0;34m:\u001b[0m\u001b[0;34m\u001b[0m\u001b[0;34m\u001b[0m\u001b[0m\n",
            "\u001b[0;32m/usr/local/lib/python3.7/dist-packages/joblib/parallel.py\u001b[0m in \u001b[0;36m<listcomp>\u001b[0;34m(.0)\u001b[0m\n\u001b[1;32m    261\u001b[0m         \u001b[0;32mwith\u001b[0m \u001b[0mparallel_backend\u001b[0m\u001b[0;34m(\u001b[0m\u001b[0mself\u001b[0m\u001b[0;34m.\u001b[0m\u001b[0m_backend\u001b[0m\u001b[0;34m,\u001b[0m \u001b[0mn_jobs\u001b[0m\u001b[0;34m=\u001b[0m\u001b[0mself\u001b[0m\u001b[0;34m.\u001b[0m\u001b[0m_n_jobs\u001b[0m\u001b[0;34m)\u001b[0m\u001b[0;34m:\u001b[0m\u001b[0;34m\u001b[0m\u001b[0;34m\u001b[0m\u001b[0m\n\u001b[1;32m    262\u001b[0m             return [func(*args, **kwargs)\n\u001b[0;32m--> 263\u001b[0;31m                     for func, args, kwargs in self.items]\n\u001b[0m\u001b[1;32m    264\u001b[0m \u001b[0;34m\u001b[0m\u001b[0m\n\u001b[1;32m    265\u001b[0m     \u001b[0;32mdef\u001b[0m \u001b[0m__reduce__\u001b[0m\u001b[0;34m(\u001b[0m\u001b[0mself\u001b[0m\u001b[0;34m)\u001b[0m\u001b[0;34m:\u001b[0m\u001b[0;34m\u001b[0m\u001b[0;34m\u001b[0m\u001b[0m\n",
            "\u001b[0;32m/usr/local/lib/python3.7/dist-packages/sklearn/model_selection/_validation.py\u001b[0m in \u001b[0;36m_fit_and_score\u001b[0;34m(estimator, X, y, scorer, train, test, verbose, parameters, fit_params, return_train_score, return_parameters, return_n_test_samples, return_times, return_estimator, error_score)\u001b[0m\n\u001b[1;32m    513\u001b[0m             \u001b[0mestimator\u001b[0m\u001b[0;34m.\u001b[0m\u001b[0mfit\u001b[0m\u001b[0;34m(\u001b[0m\u001b[0mX_train\u001b[0m\u001b[0;34m,\u001b[0m \u001b[0;34m**\u001b[0m\u001b[0mfit_params\u001b[0m\u001b[0;34m)\u001b[0m\u001b[0;34m\u001b[0m\u001b[0;34m\u001b[0m\u001b[0m\n\u001b[1;32m    514\u001b[0m         \u001b[0;32melse\u001b[0m\u001b[0;34m:\u001b[0m\u001b[0;34m\u001b[0m\u001b[0;34m\u001b[0m\u001b[0m\n\u001b[0;32m--> 515\u001b[0;31m             \u001b[0mestimator\u001b[0m\u001b[0;34m.\u001b[0m\u001b[0mfit\u001b[0m\u001b[0;34m(\u001b[0m\u001b[0mX_train\u001b[0m\u001b[0;34m,\u001b[0m \u001b[0my_train\u001b[0m\u001b[0;34m,\u001b[0m \u001b[0;34m**\u001b[0m\u001b[0mfit_params\u001b[0m\u001b[0;34m)\u001b[0m\u001b[0;34m\u001b[0m\u001b[0;34m\u001b[0m\u001b[0m\n\u001b[0m\u001b[1;32m    516\u001b[0m \u001b[0;34m\u001b[0m\u001b[0m\n\u001b[1;32m    517\u001b[0m     \u001b[0;32mexcept\u001b[0m \u001b[0mException\u001b[0m \u001b[0;32mas\u001b[0m \u001b[0me\u001b[0m\u001b[0;34m:\u001b[0m\u001b[0;34m\u001b[0m\u001b[0;34m\u001b[0m\u001b[0m\n",
            "\u001b[0;32m/usr/local/lib/python3.7/dist-packages/sklearn/svm/_base.py\u001b[0m in \u001b[0;36mfit\u001b[0;34m(self, X, y, sample_weight)\u001b[0m\n\u001b[1;32m    197\u001b[0m \u001b[0;34m\u001b[0m\u001b[0m\n\u001b[1;32m    198\u001b[0m         \u001b[0mseed\u001b[0m \u001b[0;34m=\u001b[0m \u001b[0mrnd\u001b[0m\u001b[0;34m.\u001b[0m\u001b[0mrandint\u001b[0m\u001b[0;34m(\u001b[0m\u001b[0mnp\u001b[0m\u001b[0;34m.\u001b[0m\u001b[0miinfo\u001b[0m\u001b[0;34m(\u001b[0m\u001b[0;34m'i'\u001b[0m\u001b[0;34m)\u001b[0m\u001b[0;34m.\u001b[0m\u001b[0mmax\u001b[0m\u001b[0;34m)\u001b[0m\u001b[0;34m\u001b[0m\u001b[0;34m\u001b[0m\u001b[0m\n\u001b[0;32m--> 199\u001b[0;31m         \u001b[0mfit\u001b[0m\u001b[0;34m(\u001b[0m\u001b[0mX\u001b[0m\u001b[0;34m,\u001b[0m \u001b[0my\u001b[0m\u001b[0;34m,\u001b[0m \u001b[0msample_weight\u001b[0m\u001b[0;34m,\u001b[0m \u001b[0msolver_type\u001b[0m\u001b[0;34m,\u001b[0m \u001b[0mkernel\u001b[0m\u001b[0;34m,\u001b[0m \u001b[0mrandom_seed\u001b[0m\u001b[0;34m=\u001b[0m\u001b[0mseed\u001b[0m\u001b[0;34m)\u001b[0m\u001b[0;34m\u001b[0m\u001b[0;34m\u001b[0m\u001b[0m\n\u001b[0m\u001b[1;32m    200\u001b[0m         \u001b[0;31m# see comment on the other call to np.iinfo in this file\u001b[0m\u001b[0;34m\u001b[0m\u001b[0;34m\u001b[0m\u001b[0;34m\u001b[0m\u001b[0m\n\u001b[1;32m    201\u001b[0m \u001b[0;34m\u001b[0m\u001b[0m\n",
            "\u001b[0;32m/usr/local/lib/python3.7/dist-packages/sklearn/svm/_base.py\u001b[0m in \u001b[0;36m_dense_fit\u001b[0;34m(self, X, y, sample_weight, solver_type, kernel, random_seed)\u001b[0m\n\u001b[1;32m    256\u001b[0m                 \u001b[0mcache_size\u001b[0m\u001b[0;34m=\u001b[0m\u001b[0mself\u001b[0m\u001b[0;34m.\u001b[0m\u001b[0mcache_size\u001b[0m\u001b[0;34m,\u001b[0m \u001b[0mcoef0\u001b[0m\u001b[0;34m=\u001b[0m\u001b[0mself\u001b[0m\u001b[0;34m.\u001b[0m\u001b[0mcoef0\u001b[0m\u001b[0;34m,\u001b[0m\u001b[0;34m\u001b[0m\u001b[0;34m\u001b[0m\u001b[0m\n\u001b[1;32m    257\u001b[0m                 \u001b[0mgamma\u001b[0m\u001b[0;34m=\u001b[0m\u001b[0mself\u001b[0m\u001b[0;34m.\u001b[0m\u001b[0m_gamma\u001b[0m\u001b[0;34m,\u001b[0m \u001b[0mepsilon\u001b[0m\u001b[0;34m=\u001b[0m\u001b[0mself\u001b[0m\u001b[0;34m.\u001b[0m\u001b[0mepsilon\u001b[0m\u001b[0;34m,\u001b[0m\u001b[0;34m\u001b[0m\u001b[0;34m\u001b[0m\u001b[0m\n\u001b[0;32m--> 258\u001b[0;31m                 max_iter=self.max_iter, random_seed=random_seed)\n\u001b[0m\u001b[1;32m    259\u001b[0m \u001b[0;34m\u001b[0m\u001b[0m\n\u001b[1;32m    260\u001b[0m         \u001b[0mself\u001b[0m\u001b[0;34m.\u001b[0m\u001b[0m_warn_from_fit_status\u001b[0m\u001b[0;34m(\u001b[0m\u001b[0;34m)\u001b[0m\u001b[0;34m\u001b[0m\u001b[0;34m\u001b[0m\u001b[0m\n",
            "\u001b[0;31mKeyboardInterrupt\u001b[0m: "
          ]
        }
      ]
    },
    {
      "cell_type": "code",
      "metadata": {
        "id": "lmVBMs8K22La"
      },
      "source": [
        "#Print best parameter after tuning\n",
        "print(gridMat.best_params_)\n",
        "print(gridPor.best_params_)\n",
        "  \n",
        "#Print how our model looks after hyper-parameter tuning\n",
        "print(gridMat.best_estimator_)\n",
        "print(gridPor.best_estimator_)\n",
        "\n",
        "#To prevent having to recomipile the above cells, the results of gridMat.best_params_ and gridPor.best_params_ are:\n",
        "# {'C': 100, 'gamma': 0.001, 'kernel': 'rbf'}\n",
        "# {'C': 10, 'gamma': 0.01, 'kernel': 'rbf'}"
      ],
      "execution_count": null,
      "outputs": []
    },
    {
      "cell_type": "code",
      "metadata": {
        "id": "husnntS_kvVw",
        "colab": {
          "base_uri": "https://localhost:8080/"
        },
        "outputId": "2e5358ae-15ba-43d5-8cf0-066d6c50f504"
      },
      "source": [
        "#And here are SVC's based on these parameters:\n",
        "\n",
        "svcMat = SVC(kernel = 'rbf', C = 100, gamma = 0.001)\n",
        "svcMat.fit(matXtrain,matytrain)\n",
        "svcPor = SVC(kernel = 'rbf', C = 10, gamma = 0.01)\n",
        "svcPor.fit(porXtrain,porytrain)"
      ],
      "execution_count": null,
      "outputs": [
        {
          "output_type": "execute_result",
          "data": {
            "text/plain": [
              "SVC(C=10, break_ties=False, cache_size=200, class_weight=None, coef0=0.0,\n",
              "    decision_function_shape='ovr', degree=3, gamma=0.01, kernel='rbf',\n",
              "    max_iter=-1, probability=False, random_state=None, shrinking=True,\n",
              "    tol=0.001, verbose=False)"
            ]
          },
          "metadata": {
            "tags": []
          },
          "execution_count": 72
        }
      ]
    },
    {
      "cell_type": "code",
      "metadata": {
        "id": "sPx_0X1ukzYA"
      },
      "source": [
        "#Find best parameters for social model (no G1/G2)\n",
        "\n",
        "#WARNING: this takes forever to compile!\n",
        "param_grid = {'C': [0.1, 1, 10, 100, 1000], \n",
        "              'gamma': [1, 0.1, 0.01, 0.001, 0.0001],\n",
        "              'kernel': ['linear','poly','rbf']} \n",
        "  \n",
        "gridMatSoc = GridSearchCV(SVC(), param_grid, cv=5, scoring='f1_micro',return_train_score=True)\n",
        "gridPorSoc = GridSearchCV(SVC(), param_grid, cv=5, scoring='f1_micro',return_train_score=True)\n",
        "  \n",
        "#Fitting the model for grid search\n",
        "gridMatSoc.fit(matXtrain2, matytrain2)\n",
        "gridPorSoc.fit(porXtrain2, porytrain2)"
      ],
      "execution_count": null,
      "outputs": []
    },
    {
      "cell_type": "code",
      "metadata": {
        "id": "xzo1uFJxlJI-"
      },
      "source": [
        "#Print best parameter after tuning\n",
        "print(gridMatSoc.best_params_)\n",
        "print(gridPorSoc.best_params_)\n",
        "  \n",
        "#Print how our model looks after hyper-parameter tuning\n",
        "print(gridMatSoc.best_estimator_)\n",
        "print(gridPorSoc.best_estimator_)\n",
        "\n",
        "#To prevent having to recomipile the above cells, the results of gridMat.best_params_ and gridPor.best_params_ are:\n",
        "#{'C': 0.1, 'gamma': 1, 'kernel': 'linear'}\n",
        "#{'C': 100, 'gamma': 0.001, 'kernel': 'rbf'}"
      ],
      "execution_count": null,
      "outputs": []
    },
    {
      "cell_type": "code",
      "metadata": {
        "id": "iuKpfjDTlLt4",
        "colab": {
          "base_uri": "https://localhost:8080/"
        },
        "outputId": "a2d60b91-bc53-44e2-a41b-b2df55440779"
      },
      "source": [
        "#And here are SVC's based on these parameters:\n",
        "\n",
        "svcMatSoc = SVC(kernel = 'linear', C = 0.1, gamma = 1)\n",
        "svcMatSoc.fit(matXtrain2,matytrain2)\n",
        "svcPorSoc = SVC(kernel = 'rbf', C = 100, gamma = 0.001)\n",
        "svcPorSoc.fit(porXtrain2,porytrain2)"
      ],
      "execution_count": null,
      "outputs": [
        {
          "output_type": "execute_result",
          "data": {
            "text/plain": [
              "SVC(C=100, break_ties=False, cache_size=200, class_weight=None, coef0=0.0,\n",
              "    decision_function_shape='ovr', degree=3, gamma=0.001, kernel='rbf',\n",
              "    max_iter=-1, probability=False, random_state=None, shrinking=True,\n",
              "    tol=0.001, verbose=False)"
            ]
          },
          "metadata": {
            "tags": []
          },
          "execution_count": 73
        }
      ]
    },
    {
      "cell_type": "code",
      "metadata": {
        "id": "RvCi1Sk5lPeB",
        "colab": {
          "base_uri": "https://localhost:8080/",
          "height": 286
        },
        "outputId": "6610b03d-b162-49e6-a6e3-088e05b81d1c"
      },
      "source": [
        "#Confusion matrix for math (G1 and G2 included)\n",
        "\n",
        "cmMat = confusion_matrix(matytest, svcMat.predict(matXtest), labels=labels)\n",
        "sns.heatmap(cmMat, annot=True, cbar=True, xticklabels=labels, yticklabels=labels, fmt='g')\n",
        "print('Confusion matrix for math (G1 and G2 included)')"
      ],
      "execution_count": null,
      "outputs": [
        {
          "output_type": "stream",
          "text": [
            "Confusion matrix for math (G1 and G2 included)\n"
          ],
          "name": "stdout"
        },
        {
          "output_type": "display_data",
          "data": {
            "image/png": "[encoded data removed]",
            "text/plain": [
              "<Figure size 432x288 with 2 Axes>"
            ]
          },
          "metadata": {
            "tags": [],
            "needs_background": "light"
          }
        }
      ]
    },
    {
      "cell_type": "code",
      "metadata": {
        "id": "Olahm4MflVlC",
        "colab": {
          "base_uri": "https://localhost:8080/",
          "height": 282
        },
        "outputId": "2c0c5bd5-9cfa-4410-a3de-41ff4da975a0"
      },
      "source": [
        "#Confusion matrix for portuguese (G1 and G2 included)\n",
        "cmPor = confusion_matrix(porytest, svcPor.predict(porXtest),labels=labels)\n",
        "sns.heatmap()\n",
        "print('Confusion matrix for Portuguese (G1 and G2 included)')"
      ],
      "execution_count": null,
      "outputs": [
        {
          "output_type": "stream",
          "text": [
            "Confusion matrix for Portuguese (G1 and G2 included)\n"
          ],
          "name": "stdout"
        },
        {
          "output_type": "display_data",
          "data": {
            "image/png": "[encoded data removed]",
            "text/plain": [
              "<Figure size 432x288 with 2 Axes>"
            ]
          },
          "metadata": {
            "tags": [],
            "needs_background": "light"
          }
        }
      ]
    },
    {
      "cell_type": "code",
      "metadata": {
        "id": "wOB2_ZYUlXO7",
        "colab": {
          "base_uri": "https://localhost:8080/",
          "height": 282
        },
        "outputId": "b46f19d2-6f4b-4e33-8618-9ae27e1bdab3"
      },
      "source": [
        "#Confusion matrix for math (NO G1 and G2)\n",
        "cmMatSoc = confusion_matrix(matytest2, svcMatSoc.predict(matXtest2), labels=labels)\n",
        "sns.heatmap(cmMatSoc, annot=True, cbar=True, xticklabels=labels, yticklabels=labels, fmt='g')\n",
        "print('Confusion matrix for Math (G1 and G2 excluded)')"
      ],
      "execution_count": null,
      "outputs": [
        {
          "output_type": "stream",
          "text": [
            "Confusion matrix for Math (G1 and G2 excluded)\n"
          ],
          "name": "stdout"
        },
        {
          "output_type": "display_data",
          "data": {
            "image/png": "[encoded data removed]",
            "text/plain": [
              "<Figure size 432x288 with 2 Axes>"
            ]
          },
          "metadata": {
            "tags": [],
            "needs_background": "light"
          }
        }
      ]
    },
    {
      "cell_type": "code",
      "metadata": {
        "id": "tGiGwLWuYObU",
        "colab": {
          "base_uri": "https://localhost:8080/",
          "height": 282
        },
        "outputId": "b363a746-5fc8-408d-b78c-a1ace7557683"
      },
      "source": [
        "#Confusion matrix for Portuguese (NO G1 and G2)\n",
        "cmPorSoc = confusion_matrix(porytest2, svcPorSoc.predict(porXtest2), labels=labels)\n",
        "sns.heatmap(cmPorSoc, annot=True, cbar=True, xticklabels=labels, yticklabels=labels, fmt='g')\n",
        "print('Confusion matrix for Portuguese (G1 and G2 excluded)')"
      ],
      "execution_count": null,
      "outputs": [
        {
          "output_type": "stream",
          "text": [
            "Confusion matrix for Portuguese (G1 and G2 excluded)\n"
          ],
          "name": "stdout"
        },
        {
          "output_type": "display_data",
          "data": {
            "image/png": "[encoded data removed]",
            "text/plain": [
              "<Figure size 432x288 with 2 Axes>"
            ]
          },
          "metadata": {
            "tags": [],
            "needs_background": "light"
          }
        }
      ]
    },
    {
      "cell_type": "code",
      "metadata": {
        "id": "cdDpkElJlaeG",
        "colab": {
          "base_uri": "https://localhost:8080/"
        },
        "outputId": "0d5c481e-31b4-40fa-86a7-54f92d0275ef"
      },
      "source": [
        "#Print out classification reports\n",
        "svcMat_predictions = svcMat.predict(matXtest)\n",
        "svcPor_predictions = svcPor.predict(porXtest)\n",
        "svcMatSoc_predictions = svcMatSoc.predict(matXtest2)\n",
        "svcPorSoc_predictions = svcPorSoc.predict(porXtest2)\n",
        "  \n",
        "# print classification report\n",
        "print('Classification Report, Math Scores (G1, G2 included)')\n",
        "print(classification_report(matytest, svcMat_predictions))\n",
        "print('Classification Report, Portuguese Scores (G1, G2 included)')\n",
        "print(classification_report(porytest, svcPor_predictions))\n",
        "print('Classification Report, Math Scores (G1, G2 NOT included)')\n",
        "print(classification_report(matytest2, svcMatSoc_predictions))\n",
        "print('Classification Report, Portuguese Scores (G1, G2 NOT included)')\n",
        "print(classification_report(porytest2, svcPorSoc_predictions))"
      ],
      "execution_count": null,
      "outputs": [
        {
          "output_type": "stream",
          "text": [
            "Classification Report, Math Scores (G1, G2 included)\n",
            "              precision    recall  f1-score   support\n",
            "\n",
            "        Fail       0.80      0.83      0.82        24\n",
            "        Pass       0.93      0.91      0.92        55\n",
            "\n",
            "    accuracy                           0.89        79\n",
            "   macro avg       0.86      0.87      0.87        79\n",
            "weighted avg       0.89      0.89      0.89        79\n",
            "\n",
            "Classification Report, Portuguese Scores (G1, G2 included)\n",
            "              precision    recall  f1-score   support\n",
            "\n",
            "        Fail       0.75      0.50      0.60        24\n",
            "        Pass       0.89      0.96      0.93       106\n",
            "\n",
            "    accuracy                           0.88       130\n",
            "   macro avg       0.82      0.73      0.76       130\n",
            "weighted avg       0.87      0.88      0.87       130\n",
            "\n",
            "Classification Report, Math Scores (G1, G2 NOT included)\n",
            "              precision    recall  f1-score   support\n",
            "\n",
            "        Fail       0.59      0.42      0.49        24\n",
            "        Pass       0.77      0.87      0.82        55\n",
            "\n",
            "    accuracy                           0.73        79\n",
            "   macro avg       0.68      0.64      0.65        79\n",
            "weighted avg       0.72      0.73      0.72        79\n",
            "\n",
            "Classification Report, Portuguese Scores (G1, G2 NOT included)\n",
            "              precision    recall  f1-score   support\n",
            "\n",
            "        Fail       0.60      0.12      0.21        24\n",
            "        Pass       0.83      0.98      0.90       106\n",
            "\n",
            "    accuracy                           0.82       130\n",
            "   macro avg       0.72      0.55      0.55       130\n",
            "weighted avg       0.79      0.82      0.77       130\n",
            "\n"
          ],
          "name": "stdout"
        }
      ]
    },
    {
      "cell_type": "code",
      "metadata": {
        "id": "8GgkxR5Ilcb9",
        "colab": {
          "base_uri": "https://localhost:8080/",
          "height": 404
        },
        "outputId": "d56ee5b3-893b-40dc-8760-989b4d24858e"
      },
      "source": [
        "#ROC curves\n",
        "#Create array of 0/1's instead of Fail/Pass to accomodate plotting\n",
        "yMatTestNums = [0 if x == 'Fail' else 1 for x in matytest] \n",
        "yMatTrainNums = [0 if x == 'Fail' else 1 for x in matytrain]\n",
        "\n",
        "yPorTestNums = [0 if x == 'Fail' else 1 for x in porytest] \n",
        "yPorTrainNums = [0 if x == 'Fail' else 1 for x in porytrain]\n",
        "\n",
        "y_train_scoreMat = svcMat.decision_function(matXtrain)\n",
        "y_train_scorePor = svcPor.decision_function(porXtrain)\n",
        "\n",
        "false_pos_rateMat, true_pos_rateMat, _ = roc_curve(yMatTrainNums, y_train_scoreMat)\n",
        "roc_aucMat = auc(false_pos_rateMat, true_pos_rateMat)\n",
        "\n",
        "false_pos_ratePor, true_pos_ratePor, _ = roc_curve(yPorTrainNums, y_train_scorePor)\n",
        "roc_aucPor = auc(false_pos_ratePor, true_pos_ratePor)\n",
        "\n",
        "fig, (ax1,ax2) = plt.subplots(1, 2, figsize=(14,6))\n",
        "ax1.plot(false_pos_rateMat, true_pos_rateMat, label='SVM $\\gamma = 1$ ROC curve Math(area = %0.2f)' % roc_aucMat, color='b')\n",
        "ax1.plot(false_pos_ratePor, true_pos_ratePor, label='SVM $\\gamma = 50$ ROC curve Por(area = %0.2f)' % roc_aucPor, color='r')\n",
        "ax1.set_title('Training Data')\n",
        "\n",
        "y_test_scoreMat = svcMat.decision_function(matXtest)\n",
        "y_test_scorePor = svcPor.decision_function(porXtest)\n",
        "\n",
        "false_pos_rateMat, true_pos_rateMat, _ = roc_curve(yMatTestNums, y_test_scoreMat)\n",
        "roc_aucMat = auc(false_pos_rateMat, true_pos_rateMat)\n",
        "\n",
        "false_pos_ratePor, true_pos_ratePor, _ = roc_curve(yPorTestNums, y_test_scorePor)\n",
        "roc_aucPor = auc(false_pos_ratePor, true_pos_ratePor)\n",
        "\n",
        "ax2.plot(false_pos_rateMat, true_pos_rateMat, label='SVM $\\gamma = 1$ ROC curve Math(area = %0.2f)' % roc_aucMat, color='b')\n",
        "ax2.plot(false_pos_ratePor, true_pos_ratePor, label='SVM $\\gamma = 50$ ROC curve Por(area = %0.2f)' % roc_aucPor, color='r')\n",
        "ax2.set_title('Test Data')\n",
        "\n",
        "for ax in fig.axes:\n",
        "    ax.plot([0, 1], [0, 1], 'k--')\n",
        "    ax.set_xlim([-0.05, 1.0])\n",
        "    ax.set_ylim([0.0, 1.05])\n",
        "    ax.set_xlabel('False Positive Rate')\n",
        "    ax.set_ylabel('True Positive Rate')\n",
        "    ax.legend(loc=\"lower right\")"
      ],
      "execution_count": null,
      "outputs": [
        {
          "output_type": "display_data",
          "data": {
            "image/png": "[encoded data removed]",
            "text/plain": [
              "<Figure size 1008x432 with 2 Axes>"
            ]
          },
          "metadata": {
            "tags": [],
            "needs_background": "light"
          }
        }
      ]
    },
    {
      "cell_type": "code",
      "metadata": {
        "id": "3Hl_2rlAlffP",
        "colab": {
          "base_uri": "https://localhost:8080/"
        },
        "outputId": "f5087be1-40f9-4f47-8356-b6d42228c441"
      },
      "source": [
        "#Cross-validation and boxplot\n",
        "\n",
        "# Cross Validation - Social + G1 + G2\n",
        "kfold = KFold(n_splits=10, shuffle=True)\n",
        "SVCmat_score = cross_val_score(svcMat, df_mat, y_mat, cv=kfold)\n",
        "SVCpor_score = cross_val_score(svcPor, df_por, y_por, cv=kfold)\n",
        "print(\"Cross-Validation Max Score SVC Math {:.2f}\".format(SVCmat_score[SVCmat_score.argmax()]))\n",
        "print(\"Cross-Validation Max Score SVC Por {:.2f}\".format(SVCpor_score[SVCpor_score.argmax()]))\n"
      ],
      "execution_count": null,
      "outputs": [
        {
          "output_type": "stream",
          "text": [
            "Cross-Validation Max Score SVC Math 0.97\n",
            "Cross-Validation Max Score SVC Por 0.97\n"
          ],
          "name": "stdout"
        }
      ]
    },
    {
      "cell_type": "code",
      "metadata": {
        "id": "oufpaPvrlh6J",
        "colab": {
          "base_uri": "https://localhost:8080/"
        },
        "outputId": "df3c2ab2-1742-4251-a793-23054c7a1d2c"
      },
      "source": [
        "# Cross Validation - Social Only\n",
        "kfold = KFold(n_splits=10, shuffle=True)\n",
        "SVCmat_score2 = cross_val_score(svcMatSoc, df_mat_social, y_mat, cv=kfold)\n",
        "SVCpor_score2 = cross_val_score(svcPorSoc, df_por_social, y_por, cv=kfold)\n",
        "print(\"Cross-Validation Max Score SVC (Math-Social) {:.2f}\".format(SVCmat_score2[SVCmat_score2.argmax()]))\n",
        "print(\"Cross-Validation Max Score SVC (Por-Social) {:.2f}\".format(SVCpor_score2[SVCpor_score2.argmax()]))\n",
        "\n",
        "mat_score_d2 = cross_val_score(dummy_math_social, df_mat_social, y_mat, cv=kfold)\n",
        "por_score_d2 = cross_val_score(dummy_por_social, df_por_social, y_por, cv=kfold)\n",
        "print(\"Cross-Validation Max Score Dummy Classifier (Math-Social) {:.2f}\".format(mat_score_d2[mat_score_d2.argmax()]))\n",
        "print(\"Cross-Validation Max Score Dummy Classifier (Por-Social) {:.2f}\".format(por_score_d2[por_score_d2.argmax()]))"
      ],
      "execution_count": null,
      "outputs": [
        {
          "output_type": "stream",
          "text": [
            "Cross-Validation Max Score SVC (Math-Social) 0.82\n",
            "Cross-Validation Max Score SVC (Por-Social) 0.91\n",
            "Cross-Validation Max Score Dummy Classifier (Math-Social) 0.68\n",
            "Cross-Validation Max Score Dummy Classifier (Por-Social) 0.60\n"
          ],
          "name": "stdout"
        }
      ]
    },
    {
      "cell_type": "code",
      "metadata": {
        "id": "XStWqD9DMUfz",
        "colab": {
          "base_uri": "https://localhost:8080/"
        },
        "outputId": "ccbe5712-e0cc-41dd-f8fe-648676c9f735"
      },
      "source": [
        "#smaller DF with continuous variables (also, G1 and G2 are known to be significant)\n",
        "smallMat = [df_mat.age,df_mat.G1,df_mat.G2]\n",
        "smallPor = [df_por.age,df_por.G1,df_por.G2]\n",
        "\n",
        "smallMatDF = np.array(smallMat)\n",
        "smallMatDF = np.transpose(smallMatDF)\n",
        "smallPorDF = np.array(smallPor)\n",
        "smallPorDF = np.transpose(smallPorDF)\n",
        "print(smallMatDF.shape)\n",
        "print(smallPorDF.shape)\n",
        "\n",
        "#new test, train with smallDFs\n",
        "smatXtrain, smatXtest, smatytrain, smatytest = train_test_split(smallMatDF, y_mat, test_size=0.2, random_state=1)\n",
        "sporXtrain, sporXtest, sporytrain, sporytest = train_test_split(smallPorDF, y_por, test_size=0.2, random_state=1)"
      ],
      "execution_count": null,
      "outputs": [
        {
          "output_type": "stream",
          "text": [
            "(395, 3)\n",
            "(649, 3)\n"
          ],
          "name": "stdout"
        }
      ]
    },
    {
      "cell_type": "code",
      "metadata": {
        "id": "-qj2PEEPM88l",
        "colab": {
          "base_uri": "https://localhost:8080/"
        },
        "outputId": "ecfc6cd6-46b3-430e-d80d-cf399394a4c1"
      },
      "source": [
        "#Linear model (just for math), for smallDF (it appears that a linear model will be a good separator, looking at the graph)\n",
        "\n",
        "linparam_grid = {'C': [0.01, 0.01, 0.1, 1, 5, 10, 100]} \n",
        "  \n",
        "smallgrid = GridSearchCV(SVC(kernel = 'linear'), linparam_grid, cv=10, scoring='f1_micro',return_train_score=True)\n",
        "  \n",
        "# fitting the model for grid search\n",
        "smallgrid.fit(smatXtrain, smatytrain)\n",
        "\n",
        "# print best parameter after tuning\n",
        "print(smallgrid.best_params_)\n",
        "  \n",
        "# print how our model looks after hyper-parameter tuning\n",
        "print(smallgrid.best_estimator_)\n",
        "smallgrid_predictions = smallgrid.predict(smatXtest)\n",
        "  \n",
        "# print classification report\n",
        "print(\"\\nClassification Report for Linear SVC (age/G1/G2)\")\n",
        "print(classification_report(smatytest, smallgrid_predictions))\n",
        "\n",
        "#NOTE, the outcomes from this graph are worse than the more complex models, but we can more easily visualize this data"
      ],
      "execution_count": null,
      "outputs": [
        {
          "output_type": "stream",
          "text": [
            "{'C': 5}\n",
            "SVC(C=5, break_ties=False, cache_size=200, class_weight=None, coef0=0.0,\n",
            "    decision_function_shape='ovr', degree=3, gamma='scale', kernel='linear',\n",
            "    max_iter=-1, probability=False, random_state=None, shrinking=True,\n",
            "    tol=0.001, verbose=False)\n",
            "\n",
            "Classification Report for Linear SVC (age/G1/G2)\n",
            "              precision    recall  f1-score   support\n",
            "\n",
            "        Fail       0.87      0.83      0.85        24\n",
            "        Pass       0.93      0.95      0.94        55\n",
            "\n",
            "    accuracy                           0.91        79\n",
            "   macro avg       0.90      0.89      0.89        79\n",
            "weighted avg       0.91      0.91      0.91        79\n",
            "\n"
          ],
          "name": "stdout"
        }
      ]
    },
    {
      "cell_type": "code",
      "metadata": {
        "id": "7RDaTnPXMorI",
        "colab": {
          "base_uri": "https://localhost:8080/",
          "height": 265
        },
        "outputId": "29d7f6d4-6346-4729-a3e7-97f3bd1c395c"
      },
      "source": [
        "#Recreate model from above, in format that permits plotting\n",
        "svcsmall = SVC(kernel = 'linear', C = 5)\n",
        "svcsmall.fit(smatXtrain, smatytrain)\n",
        "\n",
        "\n",
        "#Function for separating plane\n",
        "z = lambda x,y: (-svcsmall.intercept_[0]-svcsmall.coef_[0][0]*x-svcsmall.coef_[0][1]*y) / svcsmall.coef_[0][2]\n",
        "\n",
        "\n",
        "#Plot stuff\n",
        "tmp = np.linspace(-2,2,51)\n",
        "x,y = np.meshgrid(tmp,tmp)\n",
        "\n",
        "\n",
        "ax = plt.axes(projection='3d')\n",
        "#Need 0/1 instead of Pass/Fail\n",
        "yMatBin = [0 if x == 'Fail' else 1 for x in y_mat]\n",
        "\n",
        "# Data for three-dimensional scattered points\n",
        "xdata = df_mat.age\n",
        "ydata = df_mat.G1\n",
        "zdata = df_mat.G2\n",
        "ax.scatter3D(xdata, ydata, zdata, c=yMatBin);\n",
        "ax.plot_surface(x, y, z(x,y))"
      ],
      "execution_count": null,
      "outputs": [
        {
          "output_type": "execute_result",
          "data": {
            "text/plain": [
              "<mpl_toolkits.mplot3d.art3d.Poly3DCollection at 0x7fe8b8f4e4d0>"
            ]
          },
          "metadata": {
            "tags": []
          },
          "execution_count": 87
        },
        {
          "output_type": "display_data",
          "data": {
            "image/png": "[encoded data removed]",
            "text/plain": [
              "<Figure size 432x288 with 1 Axes>"
            ]
          },
          "metadata": {
            "tags": [],
            "needs_background": "light"
          }
        }
      ]
    },
    {
      "cell_type": "markdown",
      "metadata": {
        "id": "1uI9vOgKTrhI"
      },
      "source": [
        "\n",
        "\n",
        "---\n",
        "\n",
        "\n",
        "# K-Nearest-Neighbors\n",
        "By Nat Arney\n",
        "\n",
        "\n",
        "---\n",
        "\n"
      ]
    },
    {
      "cell_type": "code",
      "metadata": {
        "colab": {
          "base_uri": "https://localhost:8080/",
          "height": 299
        },
        "id": "rFcMq8D3Lh-T",
        "outputId": "e37e7dd1-3a63-479a-a62c-8e9c73df68ca"
      },
      "source": [
        "# Find best value of k (All Parameters)\n",
        "def returnScore(k, xtrain, xtest, ytrain, ytest):\n",
        "  knn = KNeighborsClassifier(n_neighbors=k)\n",
        "  knn.fit(xtrain, ytrain)\n",
        "  return knn.score(xtest, ytest)\n",
        "\n",
        "knn_mat_result = [*map(lambda i:returnScore(i,matXtrain, matXtest, matytrain, matytest), range(1,25))]\n",
        "knn_por_result = [*map(lambda i:returnScore(i,porXtrain, porXtest, porytrain, porytest), range(1,25))]\n",
        "mat_best_k = np.argmax(knn_mat_result) + 1\n",
        "por_best_k = np.argmax(knn_por_result) + 1\n",
        "\n",
        "plt.plot(knn_mat_result,label=\"Math\")\n",
        "plt.plot(knn_por_result,label=\"Portuguese\")\n",
        "plt.legend()\n",
        "\n",
        "print('BEST VALUE OF K (Math):',mat_best_k)\n",
        "print('BEST VALUE OF K (Port):',por_best_k)"
      ],
      "execution_count": null,
      "outputs": [
        {
          "output_type": "stream",
          "text": [
            "BEST VALUE OF K (Math): 13\n",
            "BEST VALUE OF K (Port): 1\n"
          ],
          "name": "stdout"
        },
        {
          "output_type": "display_data",
          "data": {
            "image/png": "[encoded data removed]",
            "text/plain": [
              "<Figure size 432x288 with 1 Axes>"
            ]
          },
          "metadata": {
            "tags": [],
            "needs_background": "light"
          }
        }
      ]
    },
    {
      "cell_type": "code",
      "metadata": {
        "colab": {
          "base_uri": "https://localhost:8080/",
          "height": 301
        },
        "id": "jqfaM-rNCZyx",
        "outputId": "920e5065-9d98-4393-a677-c8124be5c741"
      },
      "source": [
        "# Find best value of k (Social Factors)\n",
        "def returnScore(k, xtrain, xtest, ytrain, ytest):\n",
        "  knn = KNeighborsClassifier(n_neighbors=k)\n",
        "  knn.fit(xtrain, ytrain)\n",
        "  return knn.score(xtest, ytest)\n",
        "\n",
        "knn_mat_result2 = [*map(lambda i:returnScore(i,matXtrain2, matXtest2, matytrain2, matytest2), range(1,25))]\n",
        "knn_por_result2 = [*map(lambda i:returnScore(i,porXtrain2, porXtest2, porytrain2, porytest2), range(1,25))]\n",
        "mat_best_k2 = np.argmax(knn_mat_result2) + 1\n",
        "por_best_k2 = np.argmax(knn_por_result2) + 1\n",
        "\n",
        "plt.plot(knn_mat_result2,label=\"Math\")\n",
        "plt.plot(knn_por_result2,label=\"Portuguese\")\n",
        "plt.legend()\n",
        "\n",
        "print('BEST VALUE OF K (Math):',mat_best_k2)\n",
        "print('BEST VALUE OF K (Port):',por_best_k2)"
      ],
      "execution_count": null,
      "outputs": [
        {
          "output_type": "stream",
          "text": [
            "BEST VALUE OF K (Math): 9\n",
            "BEST VALUE OF K (Port): 4\n"
          ],
          "name": "stdout"
        },
        {
          "output_type": "display_data",
          "data": {
            "image/png": "[encoded data removed]",
            "text/plain": [
              "<Figure size 432x288 with 1 Axes>"
            ]
          },
          "metadata": {
            "tags": [],
            "needs_background": "light"
          }
        }
      ]
    },
    {
      "cell_type": "code",
      "metadata": {
        "id": "Rv1_YUT8C37F",
        "colab": {
          "base_uri": "https://localhost:8080/"
        },
        "outputId": "4fea4fc5-b322-486d-fc28-4b556fb60b0f"
      },
      "source": [
        "# Initialize & fit knn_mat, knn_por\n",
        "\n",
        "# All\n",
        "knn_mat = KNeighborsClassifier(n_neighbors=mat_best_k)\n",
        "knn_por = KNeighborsClassifier(n_neighbors=por_best_k)\n",
        "\n",
        "knn_mat.fit(matXtrain,matytrain)\n",
        "knn_por.fit(porXtrain,porytrain)\n",
        "\n",
        "# Social Factors\n",
        "knn_mat2 = KNeighborsClassifier(n_neighbors=mat_best_k2)\n",
        "knn_por2 = KNeighborsClassifier(n_neighbors=por_best_k2)\n",
        "\n",
        "knn_mat2.fit(matXtrain2,matytrain2)\n",
        "knn_por2.fit(porXtrain2,porytrain2)"
      ],
      "execution_count": null,
      "outputs": [
        {
          "output_type": "execute_result",
          "data": {
            "text/plain": [
              "KNeighborsClassifier(algorithm='auto', leaf_size=30, metric='minkowski',\n",
              "                     metric_params=None, n_jobs=None, n_neighbors=4, p=2,\n",
              "                     weights='uniform')"
            ]
          },
          "metadata": {
            "tags": []
          },
          "execution_count": 90
        }
      ]
    },
    {
      "cell_type": "code",
      "metadata": {
        "colab": {
          "base_uri": "https://localhost:8080/"
        },
        "id": "42-ZyKU5LN6z",
        "outputId": "236453db-6225-4052-c20c-e56b284c29f7"
      },
      "source": [
        "# Predictions\n",
        "knn_mat_pred = knn_mat.predict(matXtest)\n",
        "knn_por_pred = knn_por.predict(porXtest)\n",
        "\n",
        "knn_mat_pred2 = knn_mat2.predict(matXtest2)\n",
        "knn_por_pred2 = knn_por2.predict(porXtest2)\n",
        "\n",
        "# Scores\n",
        "print(\"KNN Score (Math, All): {:.2f}\".format(knn_mat.score(matXtest,matytest)))\n",
        "print(\"KNN Score (Port, All): {:.2f}\".format(knn_por.score(porXtest,porytest)))\n",
        "print()\n",
        "print(\"KNN Score (Math, Social): {:.2f}\".format(knn_mat2.score(matXtest2,matytest2)))\n",
        "print(\"KNN Score (Port, Social): {:.2f}\".format(knn_por2.score(porXtest2,porytest2)))"
      ],
      "execution_count": null,
      "outputs": [
        {
          "output_type": "stream",
          "text": [
            "KNN Score (Math, All): 0.84\n",
            "KNN Score (Port, All): 0.86\n",
            "\n",
            "KNN Score (Math, Social): 0.75\n",
            "KNN Score (Port, Social): 0.84\n"
          ],
          "name": "stdout"
        }
      ]
    },
    {
      "cell_type": "code",
      "metadata": {
        "colab": {
          "base_uri": "https://localhost:8080/"
        },
        "id": "y00dl1ZKAFpC",
        "outputId": "3f82155c-d933-4519-a2b6-a520d5d5cf67"
      },
      "source": [
        "# F1 Score\n",
        "print(\"KNN F1 Score (Math, All): {:.2f}\".format(f1_score(matytest,knn_mat_pred,labels=labels,pos_label=\"Pass\")))\n",
        "print(\"KNN F1 Score (Port, All): {:.2f}\".format(f1_score(porytest,knn_por_pred,labels=labels,pos_label=\"Pass\")))\n",
        "print()\n",
        "print(\"KNN F1 Score (Math, Social): {:.2f}\".format(f1_score(matytest2,knn_mat_pred2,labels=labels,pos_label=\"Pass\")))\n",
        "print(\"KNN F1 Score (Port, Social): {:.2f}\".format(f1_score(porytest2,knn_por_pred2,labels=labels,pos_label=\"Pass\")))"
      ],
      "execution_count": null,
      "outputs": [
        {
          "output_type": "stream",
          "text": [
            "KNN F1 Score (Math, All): 0.89\n",
            "KNN F1 Score (Port, All): 0.92\n",
            "\n",
            "KNN F1 Score (Math, Social): 0.84\n",
            "KNN F1 Score (Port, Social): 0.90\n"
          ],
          "name": "stdout"
        }
      ]
    },
    {
      "cell_type": "code",
      "metadata": {
        "colab": {
          "base_uri": "https://localhost:8080/"
        },
        "id": "az9x3MtXRDTZ",
        "outputId": "57b69a2e-e41b-4f29-d9eb-6015b6024fa9"
      },
      "source": [
        "# Confusion Matrix\n",
        "\n",
        "# All\n",
        "knn_mat_matrix = confusion_matrix(matytest,knn_mat_pred,labels=labels)\n",
        "knn_por_matrix = confusion_matrix(porytest,knn_por_pred,labels=labels)\n",
        "\n",
        "print(\"KNN Math Matrix (All)\\n\",knn_mat_matrix)\n",
        "print(\"KNN Port. Matrix (All)\\n\",knn_por_matrix)\n",
        "\n",
        "# Social\n",
        "knn_mat_matrix2 = confusion_matrix(matytest2,knn_mat_pred2,labels=labels)\n",
        "knn_por_matrix2 = confusion_matrix(porytest2,knn_por_pred2,labels=labels)\n",
        "\n",
        "print(\"KNN Math Matrix (Social)\\n\",knn_mat_matrix2)\n",
        "print(\"KNN Port. Matrix (Social)\\n\",knn_por_matrix2)"
      ],
      "execution_count": null,
      "outputs": [
        {
          "output_type": "stream",
          "text": [
            "KNN Math Matrix (All)\n",
            " [[53  2]\n",
            " [11 13]]\n",
            "KNN Port. Matrix (All)\n",
            " [[103   3]\n",
            " [ 15   9]]\n",
            "KNN Math Matrix (Social)\n",
            " [[51  4]\n",
            " [16  8]]\n",
            "KNN Port. Matrix (Social)\n",
            " [[98  8]\n",
            " [13 11]]\n"
          ],
          "name": "stdout"
        }
      ]
    },
    {
      "cell_type": "code",
      "metadata": {
        "colab": {
          "base_uri": "https://localhost:8080/",
          "height": 282
        },
        "id": "kn_4thVSdC3D",
        "outputId": "5e758149-f361-4fee-f006-bcff90bc9014"
      },
      "source": [
        "sns.heatmap(knn_mat_matrix,annot=True, cbar=True, xticklabels=labels, yticklabels=labels, fmt='g')\n",
        "print(\"KNN Math Matrix (G1 + G2 Included)\")"
      ],
      "execution_count": null,
      "outputs": [
        {
          "output_type": "stream",
          "text": [
            "KNN Math Matrix (G1 + G2 Included)\n"
          ],
          "name": "stdout"
        },
        {
          "output_type": "display_data",
          "data": {
            "image/png": "[encoded data removed]",
            "text/plain": [
              "<Figure size 432x288 with 2 Axes>"
            ]
          },
          "metadata": {
            "tags": [],
            "needs_background": "light"
          }
        }
      ]
    },
    {
      "cell_type": "code",
      "metadata": {
        "colab": {
          "base_uri": "https://localhost:8080/",
          "height": 282
        },
        "id": "zYFRfUMxdZQn",
        "outputId": "72c62401-b428-4766-80f8-663b1ec6721b"
      },
      "source": [
        "sns.heatmap(knn_por_matrix,annot=True, cbar=True, xticklabels=labels, yticklabels=labels, fmt='g')\n",
        "print(\"KNN Portuguese Matrix (G1 + G2 Included)\")"
      ],
      "execution_count": null,
      "outputs": [
        {
          "output_type": "stream",
          "text": [
            "KNN Portuguese Matrix (G1 + G2 Included)\n"
          ],
          "name": "stdout"
        },
        {
          "output_type": "display_data",
          "data": {
            "image/png": "[encoded data removed]",
            "text/plain": [
              "<Figure size 432x288 with 2 Axes>"
            ]
          },
          "metadata": {
            "tags": [],
            "needs_background": "light"
          }
        }
      ]
    },
    {
      "cell_type": "code",
      "metadata": {
        "colab": {
          "base_uri": "https://localhost:8080/",
          "height": 282
        },
        "id": "03-19MQ9de_y",
        "outputId": "fc9a6b56-d44d-4711-fb64-bdadcdc60871"
      },
      "source": [
        "sns.heatmap(knn_mat_matrix2,annot=True, cbar=True, xticklabels=labels, yticklabels=labels, fmt='g')\n",
        "print(\"KNN Math Matrix (G1 + G2 Excluded)\")"
      ],
      "execution_count": null,
      "outputs": [
        {
          "output_type": "stream",
          "text": [
            "KNN Math Matrix (G1 + G2 Excluded)\n"
          ],
          "name": "stdout"
        },
        {
          "output_type": "display_data",
          "data": {
            "image/png": "[encoded data removed]",
            "text/plain": [
              "<Figure size 432x288 with 2 Axes>"
            ]
          },
          "metadata": {
            "tags": [],
            "needs_background": "light"
          }
        }
      ]
    },
    {
      "cell_type": "code",
      "metadata": {
        "colab": {
          "base_uri": "https://localhost:8080/",
          "height": 282
        },
        "id": "3mqic8zXdheZ",
        "outputId": "d1aa0273-e905-4bf4-e02f-fb348c0cae27"
      },
      "source": [
        "sns.heatmap(knn_por_matrix2,annot=True, cbar=True, xticklabels=labels, yticklabels=labels, fmt='g')\n",
        "print(\"KNN Portuguese Matrix (G1 + G2 Excluded)\")"
      ],
      "execution_count": null,
      "outputs": [
        {
          "output_type": "stream",
          "text": [
            "KNN Portuguese Matrix (G1 + G2 Excluded)\n"
          ],
          "name": "stdout"
        },
        {
          "output_type": "display_data",
          "data": {
            "image/png": "[encoded data removed]",
            "text/plain": [
              "<Figure size 432x288 with 2 Axes>"
            ]
          },
          "metadata": {
            "tags": [],
            "needs_background": "light"
          }
        }
      ]
    },
    {
      "cell_type": "code",
      "metadata": {
        "colab": {
          "base_uri": "https://localhost:8080/",
          "height": 296
        },
        "id": "j2tjErKLWwsW",
        "outputId": "5be322d8-d914-4264-814b-3c1848f08211"
      },
      "source": [
        "# Calculate and Show KNN PRC results (Math, Grades)\n",
        "precision, recall, thresholds = precision_recall_curve(matytest, knn_mat.predict_proba(matXtest)[:, 1], pos_label=\"Pass\")\n",
        "close_zero = np.argmin(np.abs(thresholds))\n",
        "plt.plot(precision[close_zero], recall[close_zero], 'o', markersize=10,\n",
        "         label=\"threshold zero\", fillstyle=\"none\", c='k', mew=2)\n",
        "\n",
        "plt.plot(precision, recall, label=\"precision recall curve\")\n",
        "plt.xlabel(\"Precision\")\n",
        "plt.ylabel(\"Recall\")\n",
        "plt.legend(loc=\"best\")\n",
        "\n",
        "print(\"KNN PRC (Math, Grades)\")"
      ],
      "execution_count": null,
      "outputs": [
        {
          "output_type": "stream",
          "text": [
            "KNN PRC (Math, Grades)\n"
          ],
          "name": "stdout"
        },
        {
          "output_type": "display_data",
          "data": {
            "image/png": "[encoded data removed]",
            "text/plain": [
              "<Figure size 432x288 with 1 Axes>"
            ]
          },
          "metadata": {
            "tags": [],
            "needs_background": "light"
          }
        }
      ]
    },
    {
      "cell_type": "code",
      "metadata": {
        "colab": {
          "base_uri": "https://localhost:8080/",
          "height": 296
        },
        "id": "OzwVmT0EXun0",
        "outputId": "20effe72-f99e-4afd-f026-66f81164760c"
      },
      "source": [
        "# Calculate and Show KNN PRC results (Portuguese, Grades)\n",
        "precision, recall, thresholds = precision_recall_curve(porytest, knn_por.predict_proba(porXtest)[:, 1], pos_label=\"Pass\")\n",
        "close_zero = np.argmin(np.abs(thresholds))\n",
        "plt.plot(precision[close_zero], recall[close_zero], 'o', markersize=10,\n",
        "         label=\"threshold zero\", fillstyle=\"none\", c='k', mew=2)\n",
        "\n",
        "plt.plot(precision, recall, label=\"precision recall curve\")\n",
        "plt.xlabel(\"Precision\")\n",
        "plt.ylabel(\"Recall\")\n",
        "plt.legend(loc=\"best\")\n",
        "\n",
        "print(\"KNN PRC (Portuguese, Grades)\")"
      ],
      "execution_count": null,
      "outputs": [
        {
          "output_type": "stream",
          "text": [
            "KNN PRC (Portuguese, Grades)\n"
          ],
          "name": "stdout"
        },
        {
          "output_type": "display_data",
          "data": {
            "image/png": "[encoded data removed]",
            "text/plain": [
              "<Figure size 432x288 with 1 Axes>"
            ]
          },
          "metadata": {
            "tags": [],
            "needs_background": "light"
          }
        }
      ]
    },
    {
      "cell_type": "code",
      "metadata": {
        "colab": {
          "base_uri": "https://localhost:8080/",
          "height": 296
        },
        "id": "vEq_6Vd0XXjN",
        "outputId": "6d0938b9-d5a5-40b7-dafd-97661463817b"
      },
      "source": [
        "# Show KNN ROC curve (Math, Grades)\n",
        "fpr, tpr, thresholds = roc_curve(matytest, knn_mat.predict_proba(matXtest)[:, 1], pos_label=\"Pass\")\n",
        "\n",
        "plt.plot(fpr, tpr, label=\"ROC Curve\")\n",
        "plt.xlabel(\"FPR\")\n",
        "plt.ylabel(\"TPR (recall)\")\n",
        "\n",
        "# find threshold closest to zero\n",
        "close_zero = np.argmin(np.abs(thresholds))\n",
        "plt.plot(fpr[close_zero], tpr[close_zero], 'o', markersize=10,\n",
        "         label=\"threshold zero\", fillstyle=\"none\", c='k', mew=2)\n",
        "plt.legend(loc=4)\n",
        "\n",
        "print(\"KNN ROC (Math, Grades)\")"
      ],
      "execution_count": null,
      "outputs": [
        {
          "output_type": "stream",
          "text": [
            "KNN ROC (Math, Grades)\n"
          ],
          "name": "stdout"
        },
        {
          "output_type": "display_data",
          "data": {
            "image/png": "[encoded data removed]",
            "text/plain": [
              "<Figure size 432x288 with 1 Axes>"
            ]
          },
          "metadata": {
            "tags": [],
            "needs_background": "light"
          }
        }
      ]
    },
    {
      "cell_type": "code",
      "metadata": {
        "colab": {
          "base_uri": "https://localhost:8080/",
          "height": 296
        },
        "id": "KIkFyPYqYKEU",
        "outputId": "fe4057d3-59ef-4a95-b915-771e0cc7e190"
      },
      "source": [
        "# Show KNN ROC curve (Portuguese, Grades)\n",
        "fpr, tpr, thresholds = roc_curve(porytest, knn_por.predict_proba(porXtest)[:, 1], pos_label=\"Pass\")\n",
        "\n",
        "plt.plot(fpr, tpr, label=\"ROC Curve\")\n",
        "plt.xlabel(\"FPR\")\n",
        "plt.ylabel(\"TPR (recall)\")\n",
        "\n",
        "# find threshold closest to zero\n",
        "close_zero = np.argmin(np.abs(thresholds))\n",
        "plt.plot(fpr[close_zero], tpr[close_zero], 'o', markersize=10,\n",
        "         label=\"threshold zero\", fillstyle=\"none\", c='k', mew=2)\n",
        "plt.legend(loc=4)\n",
        "\n",
        "print(\"KNN ROC (Portuguese, Grades)\")"
      ],
      "execution_count": null,
      "outputs": [
        {
          "output_type": "stream",
          "text": [
            "KNN ROC (Portuguese, Grades)\n"
          ],
          "name": "stdout"
        },
        {
          "output_type": "display_data",
          "data": {
            "image/png": "[encoded data removed]",
            "text/plain": [
              "<Figure size 432x288 with 1 Axes>"
            ]
          },
          "metadata": {
            "tags": [],
            "needs_background": "light"
          }
        }
      ]
    },
    {
      "cell_type": "code",
      "metadata": {
        "colab": {
          "base_uri": "https://localhost:8080/",
          "height": 296
        },
        "id": "guhynRmxEiay",
        "outputId": "98553b39-0e5f-4656-e3d3-4283fe62c07d"
      },
      "source": [
        "# Calculate and Show KNN PRC results (Math, Social)\n",
        "precision, recall, thresholds = precision_recall_curve(matytest2, knn_mat2.predict_proba(matXtest2)[:, 1], pos_label=\"Pass\")\n",
        "close_zero = np.argmin(np.abs(thresholds))\n",
        "plt.plot(precision[close_zero], recall[close_zero], 'o', markersize=10,\n",
        "         label=\"threshold zero\", fillstyle=\"none\", c='k', mew=2)\n",
        "\n",
        "plt.plot(precision, recall, label=\"precision recall curve\")\n",
        "plt.xlabel(\"Precision\")\n",
        "plt.ylabel(\"Recall\")\n",
        "plt.legend(loc=\"best\")\n",
        "\n",
        "print(\"KNN PRC (Math, Social)\")"
      ],
      "execution_count": null,
      "outputs": [
        {
          "output_type": "stream",
          "text": [
            "KNN PRC (Math, Social)\n"
          ],
          "name": "stdout"
        },
        {
          "output_type": "display_data",
          "data": {
            "image/png": "[encoded data removed]",
            "text/plain": [
              "<Figure size 432x288 with 1 Axes>"
            ]
          },
          "metadata": {
            "tags": [],
            "needs_background": "light"
          }
        }
      ]
    },
    {
      "cell_type": "code",
      "metadata": {
        "colab": {
          "base_uri": "https://localhost:8080/",
          "height": 296
        },
        "id": "JgcUOS9iEibA",
        "outputId": "789afa3f-f723-4f23-bd3b-dfa6a16986fe"
      },
      "source": [
        "# Calculate and Show KNN PRC results (Portuguese, Social)\n",
        "precision, recall, thresholds = precision_recall_curve(porytest2, knn_por2.predict_proba(porXtest2)[:, 1], pos_label=\"Pass\")\n",
        "close_zero = np.argmin(np.abs(thresholds))\n",
        "plt.plot(precision[close_zero], recall[close_zero], 'o', markersize=10,\n",
        "         label=\"threshold zero\", fillstyle=\"none\", c='k', mew=2)\n",
        "\n",
        "plt.plot(precision, recall, label=\"precision recall curve\")\n",
        "plt.xlabel(\"Precision\")\n",
        "plt.ylabel(\"Recall\")\n",
        "plt.legend(loc=\"best\")\n",
        "\n",
        "print(\"KNN PRC (Portuguese, Social)\")"
      ],
      "execution_count": null,
      "outputs": [
        {
          "output_type": "stream",
          "text": [
            "KNN PRC (Portuguese, Social)\n"
          ],
          "name": "stdout"
        },
        {
          "output_type": "display_data",
          "data": {
            "image/png": "[encoded data removed]",
            "text/plain": [
              "<Figure size 432x288 with 1 Axes>"
            ]
          },
          "metadata": {
            "tags": [],
            "needs_background": "light"
          }
        }
      ]
    },
    {
      "cell_type": "code",
      "metadata": {
        "id": "slgj4rstEibC",
        "colab": {
          "base_uri": "https://localhost:8080/",
          "height": 296
        },
        "outputId": "6946d690-59d6-460c-b44a-a7fe46ac46ee"
      },
      "source": [
        "# Show KNN ROC curve (Math, Social)\n",
        "fpr, tpr, thresholds = roc_curve(matytest2, knn_mat2.predict_proba(matXtest2)[:, 1], pos_label=\"Pass\")\n",
        "\n",
        "plt.plot(fpr, tpr, label=\"ROC Curve\")\n",
        "plt.xlabel(\"FPR\")\n",
        "plt.ylabel(\"TPR (recall)\")\n",
        "\n",
        "# find threshold closest to zero\n",
        "close_zero = np.argmin(np.abs(thresholds))\n",
        "plt.plot(fpr[close_zero], tpr[close_zero], 'o', markersize=10,\n",
        "         label=\"threshold zero\", fillstyle=\"none\", c='k', mew=2)\n",
        "plt.legend(loc=4)\n",
        "\n",
        "print(\"KNN ROC (Math, Social)\")"
      ],
      "execution_count": null,
      "outputs": [
        {
          "output_type": "stream",
          "text": [
            "KNN ROC (Math, Social)\n"
          ],
          "name": "stdout"
        },
        {
          "output_type": "display_data",
          "data": {
            "image/png": "[encoded data removed]",
            "text/plain": [
              "<Figure size 432x288 with 1 Axes>"
            ]
          },
          "metadata": {
            "tags": [],
            "needs_background": "light"
          }
        }
      ]
    },
    {
      "cell_type": "code",
      "metadata": {
        "colab": {
          "base_uri": "https://localhost:8080/",
          "height": 296
        },
        "id": "1IiCrfpbEibE",
        "outputId": "0f8c37bf-fee9-490b-ca2b-77b7dccaa268"
      },
      "source": [
        "# Show KNN ROC curve (Portuguese, Social)\n",
        "fpr, tpr, thresholds = roc_curve(porytest2, knn_por2.predict_proba(porXtest2)[:, 1], pos_label=\"Pass\")\n",
        "\n",
        "plt.plot(fpr, tpr, label=\"ROC Curve\")\n",
        "plt.xlabel(\"FPR\")\n",
        "plt.ylabel(\"TPR (recall)\")\n",
        "\n",
        "# find threshold closest to zero\n",
        "close_zero = np.argmin(np.abs(thresholds))\n",
        "plt.plot(fpr[close_zero], tpr[close_zero], 'o', markersize=10,\n",
        "         label=\"threshold zero\", fillstyle=\"none\", c='k', mew=2)\n",
        "plt.legend(loc=4)\n",
        "\n",
        "print(\"KNN ROC (Portuguese, Social)\")"
      ],
      "execution_count": null,
      "outputs": [
        {
          "output_type": "stream",
          "text": [
            "KNN ROC (Portuguese, Social)\n"
          ],
          "name": "stdout"
        },
        {
          "output_type": "display_data",
          "data": {
            "image/png": "[encoded data removed]",
            "text/plain": [
              "<Figure size 432x288 with 1 Axes>"
            ]
          },
          "metadata": {
            "tags": [],
            "needs_background": "light"
          }
        }
      ]
    },
    {
      "cell_type": "code",
      "metadata": {
        "colab": {
          "base_uri": "https://localhost:8080/"
        },
        "id": "oj2iYio9TWFr",
        "outputId": "e165fa94-c43c-4e8b-ad56-da16fd0dd7cd"
      },
      "source": [
        "# KNN K-Fold Cross Validation\n",
        "kf = KFold(n_splits=10,shuffle=True)\n",
        "\n",
        "# KNN CV Scores - All Parameters\n",
        "knn_mat_cvscore = cross_val_score(knn_mat,df_mat,y_mat,cv=kf)\n",
        "knn_por_cvscore = cross_val_score(knn_por,df_por,y_por,cv=kf)\n",
        "\n",
        "# KNN CV Scores - Social\n",
        "knn_mat_cvscore2 = cross_val_score(knn_mat2,df_mat_social,y_mat,cv=kf)\n",
        "knn_por_cvscore2 = cross_val_score(knn_mat2,df_por_social,y_por,cv=kf)\n",
        "\n",
        "# Print\n",
        "print(\"KNN Math CV Score (All): {:.2f}\".format(knn_mat_cvscore.mean()))\n",
        "print(\"KNN Port. CV Score (All): {:.2f}\".format(knn_por_cvscore.mean()))\n",
        "print(\"KNN Math CV Score (Social): {:.2f}\".format(knn_mat_cvscore2.mean()))\n",
        "print(\"KNN Port. CV Score (Social): {:.2f}\".format(knn_por_cvscore2.mean()))"
      ],
      "execution_count": null,
      "outputs": [
        {
          "output_type": "stream",
          "text": [
            "KNN Math CV Score (All): 0.81\n",
            "KNN Port. CV Score (All): 0.86\n",
            "KNN Math CV Score (Social): 0.70\n",
            "KNN Port. CV Score (Social): 0.85\n"
          ],
          "name": "stdout"
        }
      ]
    },
    {
      "cell_type": "code",
      "metadata": {
        "colab": {
          "base_uri": "https://localhost:8080/"
        },
        "id": "Rszm2qIuU7ok",
        "outputId": "291b6ac7-2df6-4a6e-835f-2865695bcb43"
      },
      "source": [
        "# KNN Classification Reports\n",
        "\n",
        "print(\"KNN Math Classification Report (All)\\n\",classification_report(matytest,knn_mat_pred))\n",
        "print(\"KNN Port. Classification Report (All)\\n\",classification_report(porytest,knn_por_pred))\n",
        "print(\"KNN Math Classification Report (Social)\\n\",classification_report(matytest,knn_mat_pred2))\n",
        "print(\"KNN Port. Classification Report (Social)\\n\",classification_report(porytest,knn_por_pred2))"
      ],
      "execution_count": null,
      "outputs": [
        {
          "output_type": "stream",
          "text": [
            "KNN Math Classification Report (All)\n",
            "               precision    recall  f1-score   support\n",
            "\n",
            "        Fail       0.87      0.54      0.67        24\n",
            "        Pass       0.83      0.96      0.89        55\n",
            "\n",
            "    accuracy                           0.84        79\n",
            "   macro avg       0.85      0.75      0.78        79\n",
            "weighted avg       0.84      0.84      0.82        79\n",
            "\n",
            "KNN Port. Classification Report (All)\n",
            "               precision    recall  f1-score   support\n",
            "\n",
            "        Fail       0.75      0.38      0.50        24\n",
            "        Pass       0.87      0.97      0.92       106\n",
            "\n",
            "    accuracy                           0.86       130\n",
            "   macro avg       0.81      0.67      0.71       130\n",
            "weighted avg       0.85      0.86      0.84       130\n",
            "\n",
            "KNN Math Classification Report (Social)\n",
            "               precision    recall  f1-score   support\n",
            "\n",
            "        Fail       0.67      0.33      0.44        24\n",
            "        Pass       0.76      0.93      0.84        55\n",
            "\n",
            "    accuracy                           0.75        79\n",
            "   macro avg       0.71      0.63      0.64        79\n",
            "weighted avg       0.73      0.75      0.72        79\n",
            "\n",
            "KNN Port. Classification Report (Social)\n",
            "               precision    recall  f1-score   support\n",
            "\n",
            "        Fail       0.58      0.46      0.51        24\n",
            "        Pass       0.88      0.92      0.90       106\n",
            "\n",
            "    accuracy                           0.84       130\n",
            "   macro avg       0.73      0.69      0.71       130\n",
            "weighted avg       0.83      0.84      0.83       130\n",
            "\n"
          ],
          "name": "stdout"
        }
      ]
    },
    {
      "cell_type": "markdown",
      "metadata": {
        "id": "d_pWl1EWpwJn"
      },
      "source": [
        "---\n",
        "\n",
        "\n",
        "#Cross Validation\n",
        "\n",
        "\n",
        "---"
      ]
    },
    {
      "cell_type": "code",
      "metadata": {
        "colab": {
          "base_uri": "https://localhost:8080/",
          "height": 1000
        },
        "id": "p7Lb6funWcyB",
        "outputId": "1da49a02-2f6f-4ef9-9210-41479c346c01"
      },
      "source": [
        "# Dummy Cross Val Scores\n",
        "  # mat_score_d, por_score_d\n",
        "  # mat_score_d2, por_score_d2\n",
        "\n",
        "# RF Cross Val Scores\n",
        "  # rf_mat_score, rf_por_score\n",
        "  # mat_score_rf_social, por_score_rf_social\n",
        "\n",
        "# LDA Cross Val Scores\n",
        "  # math_lda_cv_scores, por_lda_cv_scores\n",
        "  # math_soc_lda_cv_scores, por_soc_lda_cv_scores\n",
        "\n",
        "# SVM Cross Val Scores\n",
        "  # SVCmat_score, SVCpor_score\n",
        "  # SVCmat_score2, SVCpor_score2\n",
        "\n",
        "# KNN Cross Val Scores\n",
        "  # knn_mat_cvscore, knn_por_cvscore\n",
        "  # knn_mat_cvscore2, knn_por_cvscore2\n",
        "\n",
        "# Plot Cross Validation Compared to the dummy classifier\n",
        "fig, box = plt.subplots(figsize=(12, 7))\n",
        "data = [mat_score_d, por_score_d, rf_mat_score, rf_por_score, math_lda_cv_scores, \n",
        "        por_lda_cv_scores, SVCmat_score, SVCpor_score, knn_mat_cvscore, knn_por_cvscore]\n",
        "box.set_title(\"Cross-Validation Score KFold (10 - shuffled) - All Params\")\n",
        "box.set_xticklabels([\"Dummy-Math\", \"Dummy-Por\", \"RF-Math\", \"RF-Por\", \"LDA-Math\", \n",
        "                     \"LDA-Por\", \"SVM-Math\", \"SVM-Por\", \"KNN-Math\", \"KNN-Por\"])\n",
        "box.boxplot(data)\n",
        "\n",
        "fig2, box2 = plt.subplots(figsize=(12, 7))\n",
        "data2 = [mat_score_d2, por_score_d2, mat_score_rf_social, por_score_rf_social, \n",
        "         math_soc_lda_cv_scores, por_soc_lda_cv_scores, SVCmat_score2, SVCpor_score2, \n",
        "         knn_mat_cvscore2, knn_por_cvscore2]\n",
        "box2.set_title(\"Cross-Validation Score KFold (10 - shuffled) - Social Params Only\")\n",
        "box2.set_xticklabels([\"Dummy-Math\", \"Dummy-Por\", \"RF-Math\", \"RF-Por\", \"LDA-Math\", \n",
        "                      \"LDA-Por\", \"SVM-Math\", \"SVM-Por\", \"KNN-Math\", \"KNN-Por\"])\n",
        "box2.boxplot(data2)"
      ],
      "execution_count": null,
      "outputs": [
        {
          "output_type": "execute_result",
          "data": {
            "text/plain": [
              "{'boxes': [<matplotlib.lines.Line2D at 0x7fe8b7ed0510>,\n",
              "  <matplotlib.lines.Line2D at 0x7fe8b7edead0>,\n",
              "  <matplotlib.lines.Line2D at 0x7fe8b7e6ff50>,\n",
              "  <matplotlib.lines.Line2D at 0x7fe8b7e87490>,\n",
              "  <matplotlib.lines.Line2D at 0x7fe8b7e98810>,\n",
              "  <matplotlib.lines.Line2D at 0x7fe8b7e2bbd0>,\n",
              "  <matplotlib.lines.Line2D at 0x7fe8b7e3cf50>,\n",
              "  <matplotlib.lines.Line2D at 0x7fe8b7e55350>,\n",
              "  <matplotlib.lines.Line2D at 0x7fe8b7de9650>,\n",
              "  <matplotlib.lines.Line2D at 0x7fe8b7dfc910>],\n",
              " 'caps': [<matplotlib.lines.Line2D at 0x7fe8b7ed5590>,\n",
              "  <matplotlib.lines.Line2D at 0x7fe8b7ed5ad0>,\n",
              "  <matplotlib.lines.Line2D at 0x7fe8b7e65a50>,\n",
              "  <matplotlib.lines.Line2D at 0x7fe8b7e65f90>,\n",
              "  <matplotlib.lines.Line2D at 0x7fe8b7e77fd0>,\n",
              "  <matplotlib.lines.Line2D at 0x7fe8b7e7e550>,\n",
              "  <matplotlib.lines.Line2D at 0x7fe8b7e903d0>,\n",
              "  <matplotlib.lines.Line2D at 0x7fe8b7e908d0>,\n",
              "  <matplotlib.lines.Line2D at 0x7fe8b7e21790>,\n",
              "  <matplotlib.lines.Line2D at 0x7fe8b7e21c50>,\n",
              "  <matplotlib.lines.Line2D at 0x7fe8b7e34b50>,\n",
              "  <matplotlib.lines.Line2D at 0x7fe8b7e3c090>,\n",
              "  <matplotlib.lines.Line2D at 0x7fe8b7e43ed0>,\n",
              "  <matplotlib.lines.Line2D at 0x7fe8b7e4f410>,\n",
              "  <matplotlib.lines.Line2D at 0x7fe8b7e5e290>,\n",
              "  <matplotlib.lines.Line2D at 0x7fe8b7e5e790>,\n",
              "  <matplotlib.lines.Line2D at 0x7fe8b7df3590>,\n",
              "  <matplotlib.lines.Line2D at 0x7fe8b7df3a90>,\n",
              "  <matplotlib.lines.Line2D at 0x7fe8b7e02890>,\n",
              "  <matplotlib.lines.Line2D at 0x7fe8b7e02d90>],\n",
              " 'fliers': [<matplotlib.lines.Line2D at 0x7fe8b7ede5d0>,\n",
              "  <matplotlib.lines.Line2D at 0x7fe8b7e6fa50>,\n",
              "  <matplotlib.lines.Line2D at 0x7fe8b7e7ef50>,\n",
              "  <matplotlib.lines.Line2D at 0x7fe8b7e98310>,\n",
              "  <matplotlib.lines.Line2D at 0x7fe8b7e2b6d0>,\n",
              "  <matplotlib.lines.Line2D at 0x7fe8b7e3ca90>,\n",
              "  <matplotlib.lines.Line2D at 0x7fe8b7e4fe10>,\n",
              "  <matplotlib.lines.Line2D at 0x7fe8b7de91d0>,\n",
              "  <matplotlib.lines.Line2D at 0x7fe8b7dfc490>,\n",
              "  <matplotlib.lines.Line2D at 0x7fe8b7e0a7d0>],\n",
              " 'means': [],\n",
              " 'medians': [<matplotlib.lines.Line2D at 0x7fe8b7ede090>,\n",
              "  <matplotlib.lines.Line2D at 0x7fe8b7e6f510>,\n",
              "  <matplotlib.lines.Line2D at 0x7fe8b7e7ea50>,\n",
              "  <matplotlib.lines.Line2D at 0x7fe8b7e90dd0>,\n",
              "  <matplotlib.lines.Line2D at 0x7fe8b7e2b190>,\n",
              "  <matplotlib.lines.Line2D at 0x7fe8b7e3c590>,\n",
              "  <matplotlib.lines.Line2D at 0x7fe8b7e4f910>,\n",
              "  <matplotlib.lines.Line2D at 0x7fe8b7e5ec90>,\n",
              "  <matplotlib.lines.Line2D at 0x7fe8b7df3f90>,\n",
              "  <matplotlib.lines.Line2D at 0x7fe8b7e0a2d0>],\n",
              " 'whiskers': [<matplotlib.lines.Line2D at 0x7fe8b7ed0ad0>,\n",
              "  <matplotlib.lines.Line2D at 0x7fe8b7ed5050>,\n",
              "  <matplotlib.lines.Line2D at 0x7fe8b7e65090>,\n",
              "  <matplotlib.lines.Line2D at 0x7fe8b7e65510>,\n",
              "  <matplotlib.lines.Line2D at 0x7fe8b7e77510>,\n",
              "  <matplotlib.lines.Line2D at 0x7fe8b7e77a90>,\n",
              "  <matplotlib.lines.Line2D at 0x7fe8b7e87990>,\n",
              "  <matplotlib.lines.Line2D at 0x7fe8b7e87e90>,\n",
              "  <matplotlib.lines.Line2D at 0x7fe8b7e98d90>,\n",
              "  <matplotlib.lines.Line2D at 0x7fe8b7e21290>,\n",
              "  <matplotlib.lines.Line2D at 0x7fe8b7e34150>,\n",
              "  <matplotlib.lines.Line2D at 0x7fe8b7e34650>,\n",
              "  <matplotlib.lines.Line2D at 0x7fe8b7e434d0>,\n",
              "  <matplotlib.lines.Line2D at 0x7fe8b7e439d0>,\n",
              "  <matplotlib.lines.Line2D at 0x7fe8b7e55850>,\n",
              "  <matplotlib.lines.Line2D at 0x7fe8b7e55d50>,\n",
              "  <matplotlib.lines.Line2D at 0x7fe8b7de9b50>,\n",
              "  <matplotlib.lines.Line2D at 0x7fe8b7df3090>,\n",
              "  <matplotlib.lines.Line2D at 0x7fe8b7dfce50>,\n",
              "  <matplotlib.lines.Line2D at 0x7fe8b7e02390>]}"
            ]
          },
          "metadata": {
            "tags": []
          },
          "execution_count": 115
        },
        {
          "output_type": "display_data",
          "data": {
            "image/png": "[encoded data removed]",
            "text/plain": [
              "<Figure size 864x504 with 1 Axes>"
            ]
          },
          "metadata": {
            "tags": [],
            "needs_background": "light"
          }
        },
        {
          "output_type": "display_data",
          "data": {
            "image/png": "[encoded data removed]",
            "text/plain": [
              "<Figure size 864x504 with 1 Axes>"
            ]
          },
          "metadata": {
            "tags": [],
            "needs_background": "light"
          }
        }
      ]
    }
  ]
}